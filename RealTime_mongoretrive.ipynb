{
 "cells": [
  {
   "cell_type": "code",
   "execution_count": 8,
   "metadata": {},
   "outputs": [],
   "source": [
    "import pandas as pd\n",
    "import numpy as np\n",
    "import matplotlib.pyplot as plt\n",
    "import seaborn as sns"
   ]
  },
  {
   "cell_type": "code",
   "execution_count": 9,
   "metadata": {},
   "outputs": [],
   "source": [
    "import warnings\n",
    "warnings.filterwarnings(\"ignore\")"
   ]
  },
  {
   "cell_type": "code",
   "execution_count": 4,
   "metadata": {},
   "outputs": [],
   "source": [
    "import pymongo\n",
    "import pandas as pd\n",
    "from pymongo import MongoClient\n",
    "client = MongoClient()\n",
    "db = client.AQIdata\n",
    "collection = db.Realtime\n",
    "df = pd.DataFrame(list(collection.find()))\n"
   ]
  },
  {
   "cell_type": "code",
   "execution_count": 5,
   "metadata": {},
   "outputs": [
    {
     "data": {
      "text/html": [
       "<div>\n",
       "<style scoped>\n",
       "    .dataframe tbody tr th:only-of-type {\n",
       "        vertical-align: middle;\n",
       "    }\n",
       "\n",
       "    .dataframe tbody tr th {\n",
       "        vertical-align: top;\n",
       "    }\n",
       "\n",
       "    .dataframe thead th {\n",
       "        text-align: right;\n",
       "    }\n",
       "</style>\n",
       "<table border=\"1\" class=\"dataframe\">\n",
       "  <thead>\n",
       "    <tr style=\"text-align: right;\">\n",
       "      <th></th>\n",
       "      <th>_id</th>\n",
       "      <th>city</th>\n",
       "      <th>country</th>\n",
       "      <th>id</th>\n",
       "      <th>lst_update</th>\n",
       "      <th>pollutant_avg</th>\n",
       "      <th>pollutant_id</th>\n",
       "      <th>pollutant_max</th>\n",
       "      <th>pollutant_min</th>\n",
       "      <th>state</th>\n",
       "      <th>station</th>\n",
       "    </tr>\n",
       "  </thead>\n",
       "  <tbody>\n",
       "    <tr>\n",
       "      <th>0</th>\n",
       "      <td>60002c430aa8bb753a28fe23</td>\n",
       "      <td>Aurangabad</td>\n",
       "      <td>India</td>\n",
       "      <td>902</td>\n",
       "      <td>2021-01-13 22:30:00</td>\n",
       "      <td>59.0</td>\n",
       "      <td>PM2.5</td>\n",
       "      <td>86.0</td>\n",
       "      <td>37.0</td>\n",
       "      <td>Maharashtra</td>\n",
       "      <td>More Chowk Waluj, Aurangabad - MPCB</td>\n",
       "    </tr>\n",
       "    <tr>\n",
       "      <th>1</th>\n",
       "      <td>60002c430aa8bb753a28fe24</td>\n",
       "      <td>Aurangabad</td>\n",
       "      <td>India</td>\n",
       "      <td>903</td>\n",
       "      <td>2021-01-13 22:30:00</td>\n",
       "      <td>82.0</td>\n",
       "      <td>PM10</td>\n",
       "      <td>103.0</td>\n",
       "      <td>62.0</td>\n",
       "      <td>Maharashtra</td>\n",
       "      <td>More Chowk Waluj, Aurangabad - MPCB</td>\n",
       "    </tr>\n",
       "    <tr>\n",
       "      <th>2</th>\n",
       "      <td>60002c430aa8bb753a28fe25</td>\n",
       "      <td>Aurangabad</td>\n",
       "      <td>India</td>\n",
       "      <td>904</td>\n",
       "      <td>2021-01-13 22:30:00</td>\n",
       "      <td>34.0</td>\n",
       "      <td>NO2</td>\n",
       "      <td>36.0</td>\n",
       "      <td>30.0</td>\n",
       "      <td>Maharashtra</td>\n",
       "      <td>More Chowk Waluj, Aurangabad - MPCB</td>\n",
       "    </tr>\n",
       "    <tr>\n",
       "      <th>3</th>\n",
       "      <td>60002c430aa8bb753a28fe26</td>\n",
       "      <td>Aurangabad</td>\n",
       "      <td>India</td>\n",
       "      <td>905</td>\n",
       "      <td>2021-01-13 22:30:00</td>\n",
       "      <td>3.0</td>\n",
       "      <td>NH3</td>\n",
       "      <td>3.0</td>\n",
       "      <td>3.0</td>\n",
       "      <td>Maharashtra</td>\n",
       "      <td>More Chowk Waluj, Aurangabad - MPCB</td>\n",
       "    </tr>\n",
       "    <tr>\n",
       "      <th>4</th>\n",
       "      <td>60002c430aa8bb753a28fe27</td>\n",
       "      <td>Aurangabad</td>\n",
       "      <td>India</td>\n",
       "      <td>906</td>\n",
       "      <td>2021-01-13 22:30:00</td>\n",
       "      <td>19.0</td>\n",
       "      <td>SO2</td>\n",
       "      <td>20.0</td>\n",
       "      <td>18.0</td>\n",
       "      <td>Maharashtra</td>\n",
       "      <td>More Chowk Waluj, Aurangabad - MPCB</td>\n",
       "    </tr>\n",
       "  </tbody>\n",
       "</table>\n",
       "</div>"
      ],
      "text/plain": [
       "                        _id        city country   id          lst_update  \\\n",
       "0  60002c430aa8bb753a28fe23  Aurangabad   India  902 2021-01-13 22:30:00   \n",
       "1  60002c430aa8bb753a28fe24  Aurangabad   India  903 2021-01-13 22:30:00   \n",
       "2  60002c430aa8bb753a28fe25  Aurangabad   India  904 2021-01-13 22:30:00   \n",
       "3  60002c430aa8bb753a28fe26  Aurangabad   India  905 2021-01-13 22:30:00   \n",
       "4  60002c430aa8bb753a28fe27  Aurangabad   India  906 2021-01-13 22:30:00   \n",
       "\n",
       "   pollutant_avg pollutant_id  pollutant_max  pollutant_min        state  \\\n",
       "0           59.0        PM2.5           86.0           37.0  Maharashtra   \n",
       "1           82.0         PM10          103.0           62.0  Maharashtra   \n",
       "2           34.0          NO2           36.0           30.0  Maharashtra   \n",
       "3            3.0          NH3            3.0            3.0  Maharashtra   \n",
       "4           19.0          SO2           20.0           18.0  Maharashtra   \n",
       "\n",
       "                               station  \n",
       "0  More Chowk Waluj, Aurangabad - MPCB  \n",
       "1  More Chowk Waluj, Aurangabad - MPCB  \n",
       "2  More Chowk Waluj, Aurangabad - MPCB  \n",
       "3  More Chowk Waluj, Aurangabad - MPCB  \n",
       "4  More Chowk Waluj, Aurangabad - MPCB  "
      ]
     },
     "execution_count": 5,
     "metadata": {},
     "output_type": "execute_result"
    }
   ],
   "source": [
    "df.head()"
   ]
  },
  {
   "cell_type": "code",
   "execution_count": 10,
   "metadata": {},
   "outputs": [
    {
     "data": {
      "text/html": [
       "<div>\n",
       "<style scoped>\n",
       "    .dataframe tbody tr th:only-of-type {\n",
       "        vertical-align: middle;\n",
       "    }\n",
       "\n",
       "    .dataframe tbody tr th {\n",
       "        vertical-align: top;\n",
       "    }\n",
       "\n",
       "    .dataframe thead th {\n",
       "        text-align: right;\n",
       "    }\n",
       "</style>\n",
       "<table border=\"1\" class=\"dataframe\">\n",
       "  <thead>\n",
       "    <tr style=\"text-align: right;\">\n",
       "      <th></th>\n",
       "      <th>id</th>\n",
       "      <th>country</th>\n",
       "      <th>state</th>\n",
       "      <th>city</th>\n",
       "      <th>station</th>\n",
       "      <th>last_update</th>\n",
       "      <th>pollutant_id</th>\n",
       "      <th>pollutant_min</th>\n",
       "      <th>pollutant_max</th>\n",
       "      <th>pollutant_avg</th>\n",
       "    </tr>\n",
       "  </thead>\n",
       "  <tbody>\n",
       "    <tr>\n",
       "      <th>0</th>\n",
       "      <td>909</td>\n",
       "      <td>India</td>\n",
       "      <td>Maharashtra</td>\n",
       "      <td>Aurangabad</td>\n",
       "      <td>More Chowk Waluj, Aurangabad - MPCB</td>\n",
       "      <td>13-01-2021 11:00:00</td>\n",
       "      <td>PM2.5</td>\n",
       "      <td>60</td>\n",
       "      <td>176</td>\n",
       "      <td>92</td>\n",
       "    </tr>\n",
       "    <tr>\n",
       "      <th>1</th>\n",
       "      <td>910</td>\n",
       "      <td>India</td>\n",
       "      <td>Maharashtra</td>\n",
       "      <td>Aurangabad</td>\n",
       "      <td>More Chowk Waluj, Aurangabad - MPCB</td>\n",
       "      <td>13-01-2021 11:00:00</td>\n",
       "      <td>PM10</td>\n",
       "      <td>64</td>\n",
       "      <td>116</td>\n",
       "      <td>91</td>\n",
       "    </tr>\n",
       "    <tr>\n",
       "      <th>2</th>\n",
       "      <td>911</td>\n",
       "      <td>India</td>\n",
       "      <td>Maharashtra</td>\n",
       "      <td>Aurangabad</td>\n",
       "      <td>More Chowk Waluj, Aurangabad - MPCB</td>\n",
       "      <td>13-01-2021 11:00:00</td>\n",
       "      <td>NO2</td>\n",
       "      <td>32</td>\n",
       "      <td>38</td>\n",
       "      <td>34</td>\n",
       "    </tr>\n",
       "    <tr>\n",
       "      <th>3</th>\n",
       "      <td>912</td>\n",
       "      <td>India</td>\n",
       "      <td>Maharashtra</td>\n",
       "      <td>Aurangabad</td>\n",
       "      <td>More Chowk Waluj, Aurangabad - MPCB</td>\n",
       "      <td>13-01-2021 11:00:00</td>\n",
       "      <td>NH3</td>\n",
       "      <td>3</td>\n",
       "      <td>3</td>\n",
       "      <td>3</td>\n",
       "    </tr>\n",
       "    <tr>\n",
       "      <th>4</th>\n",
       "      <td>913</td>\n",
       "      <td>India</td>\n",
       "      <td>Maharashtra</td>\n",
       "      <td>Aurangabad</td>\n",
       "      <td>More Chowk Waluj, Aurangabad - MPCB</td>\n",
       "      <td>13-01-2021 11:00:00</td>\n",
       "      <td>SO2</td>\n",
       "      <td>17</td>\n",
       "      <td>20</td>\n",
       "      <td>19</td>\n",
       "    </tr>\n",
       "    <tr>\n",
       "      <th>...</th>\n",
       "      <td>...</td>\n",
       "      <td>...</td>\n",
       "      <td>...</td>\n",
       "      <td>...</td>\n",
       "      <td>...</td>\n",
       "      <td>...</td>\n",
       "      <td>...</td>\n",
       "      <td>...</td>\n",
       "      <td>...</td>\n",
       "      <td>...</td>\n",
       "    </tr>\n",
       "    <tr>\n",
       "      <th>95</th>\n",
       "      <td>1004</td>\n",
       "      <td>India</td>\n",
       "      <td>Maharashtra</td>\n",
       "      <td>Mumbai</td>\n",
       "      <td>Kurla, Mumbai - MPCB</td>\n",
       "      <td>13-01-2021 11:00:00</td>\n",
       "      <td>PM10</td>\n",
       "      <td>NA</td>\n",
       "      <td>NA</td>\n",
       "      <td>NA</td>\n",
       "    </tr>\n",
       "    <tr>\n",
       "      <th>96</th>\n",
       "      <td>1005</td>\n",
       "      <td>India</td>\n",
       "      <td>Maharashtra</td>\n",
       "      <td>Mumbai</td>\n",
       "      <td>Kurla, Mumbai - MPCB</td>\n",
       "      <td>13-01-2021 11:00:00</td>\n",
       "      <td>NO2</td>\n",
       "      <td>NA</td>\n",
       "      <td>NA</td>\n",
       "      <td>NA</td>\n",
       "    </tr>\n",
       "    <tr>\n",
       "      <th>97</th>\n",
       "      <td>1006</td>\n",
       "      <td>India</td>\n",
       "      <td>Maharashtra</td>\n",
       "      <td>Mumbai</td>\n",
       "      <td>Kurla, Mumbai - MPCB</td>\n",
       "      <td>13-01-2021 11:00:00</td>\n",
       "      <td>NH3</td>\n",
       "      <td>NA</td>\n",
       "      <td>NA</td>\n",
       "      <td>NA</td>\n",
       "    </tr>\n",
       "    <tr>\n",
       "      <th>98</th>\n",
       "      <td>1007</td>\n",
       "      <td>India</td>\n",
       "      <td>Maharashtra</td>\n",
       "      <td>Mumbai</td>\n",
       "      <td>Kurla, Mumbai - MPCB</td>\n",
       "      <td>13-01-2021 11:00:00</td>\n",
       "      <td>SO2</td>\n",
       "      <td>NA</td>\n",
       "      <td>NA</td>\n",
       "      <td>NA</td>\n",
       "    </tr>\n",
       "    <tr>\n",
       "      <th>99</th>\n",
       "      <td>1008</td>\n",
       "      <td>India</td>\n",
       "      <td>Maharashtra</td>\n",
       "      <td>Mumbai</td>\n",
       "      <td>Kurla, Mumbai - MPCB</td>\n",
       "      <td>13-01-2021 11:00:00</td>\n",
       "      <td>CO</td>\n",
       "      <td>26</td>\n",
       "      <td>72</td>\n",
       "      <td>31</td>\n",
       "    </tr>\n",
       "  </tbody>\n",
       "</table>\n",
       "<p>100 rows × 10 columns</p>\n",
       "</div>"
      ],
      "text/plain": [
       "      id country        state        city  \\\n",
       "0    909   India  Maharashtra  Aurangabad   \n",
       "1    910   India  Maharashtra  Aurangabad   \n",
       "2    911   India  Maharashtra  Aurangabad   \n",
       "3    912   India  Maharashtra  Aurangabad   \n",
       "4    913   India  Maharashtra  Aurangabad   \n",
       "..   ...     ...          ...         ...   \n",
       "95  1004   India  Maharashtra      Mumbai   \n",
       "96  1005   India  Maharashtra      Mumbai   \n",
       "97  1006   India  Maharashtra      Mumbai   \n",
       "98  1007   India  Maharashtra      Mumbai   \n",
       "99  1008   India  Maharashtra      Mumbai   \n",
       "\n",
       "                                station          last_update pollutant_id  \\\n",
       "0   More Chowk Waluj, Aurangabad - MPCB  13-01-2021 11:00:00        PM2.5   \n",
       "1   More Chowk Waluj, Aurangabad - MPCB  13-01-2021 11:00:00         PM10   \n",
       "2   More Chowk Waluj, Aurangabad - MPCB  13-01-2021 11:00:00          NO2   \n",
       "3   More Chowk Waluj, Aurangabad - MPCB  13-01-2021 11:00:00          NH3   \n",
       "4   More Chowk Waluj, Aurangabad - MPCB  13-01-2021 11:00:00          SO2   \n",
       "..                                  ...                  ...          ...   \n",
       "95                 Kurla, Mumbai - MPCB  13-01-2021 11:00:00         PM10   \n",
       "96                 Kurla, Mumbai - MPCB  13-01-2021 11:00:00          NO2   \n",
       "97                 Kurla, Mumbai - MPCB  13-01-2021 11:00:00          NH3   \n",
       "98                 Kurla, Mumbai - MPCB  13-01-2021 11:00:00          SO2   \n",
       "99                 Kurla, Mumbai - MPCB  13-01-2021 11:00:00           CO   \n",
       "\n",
       "   pollutant_min pollutant_max pollutant_avg  \n",
       "0             60           176            92  \n",
       "1             64           116            91  \n",
       "2             32            38            34  \n",
       "3              3             3             3  \n",
       "4             17            20            19  \n",
       "..           ...           ...           ...  \n",
       "95            NA            NA            NA  \n",
       "96            NA            NA            NA  \n",
       "97            NA            NA            NA  \n",
       "98            NA            NA            NA  \n",
       "99            26            72            31  \n",
       "\n",
       "[100 rows x 10 columns]"
      ]
     },
     "execution_count": 10,
     "metadata": {},
     "output_type": "execute_result"
    }
   ],
   "source": [
    "df.drop(['pollutant_unit'], axis = 1) "
   ]
  },
  {
   "cell_type": "code",
   "execution_count": 10,
   "metadata": {},
   "outputs": [
    {
     "data": {
      "text/plain": [
       "<matplotlib.axes._subplots.AxesSubplot at 0x1ebbad318e0>"
      ]
     },
     "execution_count": 10,
     "metadata": {},
     "output_type": "execute_result"
    },
    {
     "data": {
      "image/png": "[encoded data removed]",
      "text/plain": [
       "<Figure size 432x288 with 1 Axes>"
      ]
     },
     "metadata": {
      "needs_background": "light"
     },
     "output_type": "display_data"
    }
   ],
   "source": [
    "sns.heatmap(df.isnull(),yticklabels=False,cbar=False,cmap='viridis')"
   ]
  },
  {
   "cell_type": "code",
   "execution_count": 11,
   "metadata": {},
   "outputs": [
    {
     "name": "stdout",
     "output_type": "stream",
     "text": [
      "<class 'pandas.core.frame.DataFrame'>\n",
      "RangeIndex: 231 entries, 0 to 230\n",
      "Data columns (total 11 columns):\n",
      " #   Column         Non-Null Count  Dtype         \n",
      "---  ------         --------------  -----         \n",
      " 0   _id            231 non-null    object        \n",
      " 1   city           231 non-null    object        \n",
      " 2   country        231 non-null    object        \n",
      " 3   id             231 non-null    int64         \n",
      " 4   lst_update     231 non-null    datetime64[ns]\n",
      " 5   pollutant_avg  231 non-null    float64       \n",
      " 6   pollutant_id   231 non-null    object        \n",
      " 7   pollutant_max  231 non-null    float64       \n",
      " 8   pollutant_min  231 non-null    float64       \n",
      " 9   state          231 non-null    object        \n",
      " 10  station        231 non-null    object        \n",
      "dtypes: datetime64[ns](1), float64(3), int64(1), object(6)\n",
      "memory usage: 20.0+ KB\n"
     ]
    }
   ],
   "source": [
    "df.info()"
   ]
  },
  {
   "cell_type": "code",
   "execution_count": 75,
   "metadata": {},
   "outputs": [
    {
     "name": "stdout",
     "output_type": "stream",
     "text": [
      "<class 'pandas.core.frame.DataFrame'>\n",
      "RangeIndex: 231 entries, 0 to 230\n",
      "Data columns (total 12 columns):\n",
      " #   Column         Non-Null Count  Dtype \n",
      "---  ------         --------------  ----- \n",
      " 0   _id            231 non-null    object\n",
      " 1   city           231 non-null    object\n",
      " 2   country        231 non-null    object\n",
      " 3   id             231 non-null    int64 \n",
      " 4   lst_update     231 non-null    object\n",
      " 5   pollutant_avg  231 non-null    object\n",
      " 6   pollutant_id   231 non-null    object\n",
      " 7   pollutant_max  231 non-null    object\n",
      " 8   pollutant_min  231 non-null    object\n",
      " 9   state          231 non-null    object\n",
      " 10  station        231 non-null    object\n",
      " 11  AQI            15 non-null     object\n",
      "dtypes: int64(1), object(11)\n",
      "memory usage: 21.8+ KB\n"
     ]
    }
   ],
   "source": []
  },
  {
   "cell_type": "code",
   "execution_count": 12,
   "metadata": {},
   "outputs": [
    {
     "data": {
      "text/plain": [
       "0      False\n",
       "1      False\n",
       "2      False\n",
       "3      False\n",
       "4      False\n",
       "       ...  \n",
       "226    False\n",
       "227    False\n",
       "228    False\n",
       "229    False\n",
       "230    False\n",
       "Length: 231, dtype: bool"
      ]
     },
     "execution_count": 12,
     "metadata": {},
     "output_type": "execute_result"
    }
   ],
   "source": [
    "df.duplicated()"
   ]
  },
  {
   "cell_type": "code",
   "execution_count": 13,
   "metadata": {},
   "outputs": [
    {
     "data": {
      "text/plain": [
       "0"
      ]
     },
     "execution_count": 13,
     "metadata": {},
     "output_type": "execute_result"
    }
   ],
   "source": [
    "sum(df.duplicated())"
   ]
  },
  {
   "cell_type": "code",
   "execution_count": 14,
   "metadata": {},
   "outputs": [
    {
     "data": {
      "text/plain": [
       "_id              0\n",
       "city             0\n",
       "country          0\n",
       "id               0\n",
       "lst_update       0\n",
       "pollutant_avg    0\n",
       "pollutant_id     0\n",
       "pollutant_max    0\n",
       "pollutant_min    0\n",
       "state            0\n",
       "station          0\n",
       "dtype: int64"
      ]
     },
     "execution_count": 14,
     "metadata": {},
     "output_type": "execute_result"
    }
   ],
   "source": [
    "df.isnull().sum()"
   ]
  },
  {
   "cell_type": "code",
   "execution_count": null,
   "metadata": {},
   "outputs": [],
   "source": []
  },
  {
   "cell_type": "code",
   "execution_count": 15,
   "metadata": {},
   "outputs": [
    {
     "data": {
      "text/plain": [
       "array(['PM2.5', 'PM10', 'NO2', 'NH3', 'SO2', 'CO', 'OZONE'], dtype=object)"
      ]
     },
     "execution_count": 15,
     "metadata": {},
     "output_type": "execute_result"
    }
   ],
   "source": [
    "df.pollutant_id.unique()"
   ]
  },
  {
   "cell_type": "code",
   "execution_count": 16,
   "metadata": {},
   "outputs": [
    {
     "data": {
      "text/plain": [
       "0      59.0\n",
       "1      82.0\n",
       "2      34.0\n",
       "3       3.0\n",
       "4      19.0\n",
       "       ... \n",
       "226    42.0\n",
       "227     8.0\n",
       "228    19.0\n",
       "229    14.0\n",
       "230    23.0\n",
       "Name: pollutant_avg, Length: 231, dtype: float64"
      ]
     },
     "execution_count": 16,
     "metadata": {},
     "output_type": "execute_result"
    }
   ],
   "source": [
    "df['pollutant_avg'].dropna()"
   ]
  },
  {
   "cell_type": "code",
   "execution_count": 18,
   "metadata": {},
   "outputs": [
    {
     "name": "stdout",
     "output_type": "stream",
     "text": [
      "Minimum Avg 1\n",
      "Minimum Avg NA\n"
     ]
    }
   ],
   "source": [
    "print(\"Minimum Avg\",df['pollutant_avg'].min())\n",
    "print(\"Minimum Avg\",df['pollutant_avg'].max())"
   ]
  },
  {
   "cell_type": "code",
   "execution_count": 17,
   "metadata": {},
   "outputs": [
    {
     "data": {
      "text/plain": [
       "1.0"
      ]
     },
     "execution_count": 17,
     "metadata": {},
     "output_type": "execute_result"
    }
   ],
   "source": [
    "df.pollutant_avg.min()"
   ]
  },
  {
   "cell_type": "code",
   "execution_count": 19,
   "metadata": {},
   "outputs": [
    {
     "data": {
      "text/plain": [
       "364.0"
      ]
     },
     "execution_count": 19,
     "metadata": {},
     "output_type": "execute_result"
    }
   ],
   "source": [
    "df.pollutant_avg.max()"
   ]
  },
  {
   "cell_type": "code",
   "execution_count": 20,
   "metadata": {},
   "outputs": [],
   "source": [
    "df.pollutant_avg.fillna(df['pollutant_avg'].mean,inplace=True)"
   ]
  },
  {
   "cell_type": "code",
   "execution_count": 21,
   "metadata": {},
   "outputs": [
    {
     "data": {
      "text/plain": [
       "364.0"
      ]
     },
     "execution_count": 21,
     "metadata": {},
     "output_type": "execute_result"
    }
   ],
   "source": [
    "df.pollutant_avg.max()"
   ]
  },
  {
   "cell_type": "code",
   "execution_count": 22,
   "metadata": {},
   "outputs": [
    {
     "name": "stdout",
     "output_type": "stream",
     "text": [
      "AVG Pollution_range: [1.0, 2.0, 3.0, 4.0, 5.0, 6.0, 7.0, 8.0, 9.0, 10.0, 11.0, 12.0, 13.0, 14.0, 15.0, 16.0, 17.0, 18.0, 19.0, 20.0, 21.0, 22.0, 23.0, 24.0, 26.0, 27.0, 28.0, 29.0, 30.0, 31.0, 32.0, 33.0, 34.0, 35.0, 36.0, 37.0, 38.0, 39.0, 40.0, 41.0, 42.0, 43.0, 44.0, 45.0, 46.0, 48.0, 49.0, 50.0, 51.0, 52.0, 53.0, 55.0, 56.0, 57.0, 58.0, 59.0, 60.0, 61.0, 63.0, 67.0, 69.0, 70.0, 75.0, 76.0, 80.0, 81.0, 82.0, 84.0, 85.0, 86.0, 87.0, 90.0, 91.0, 92.0, 94.0, 95.0, 96.0, 97.0, 98.0, 99.0, 105.0, 107.0, 108.0, 109.0, 110.0, 111.0, 116.0, 118.0, 119.0, 130.0, 133.0, 134.0, 142.0, 147.0, 148.0, 149.0, 154.0, 155.0, 158.0, 161.0, 169.0, 173.0, 179.0, 180.0, 181.0, 183.0, 184.0, 187.0, 190.0, 200.0, 201.0, 208.0, 213.0, 214.0, 217.0, 220.0, 221.0, 229.0, 235.0, 241.0, 249.0, 250.0, 251.0, 258.0, 271.0, 293.0, 364.0]\n"
     ]
    }
   ],
   "source": [
    "print(\"AVG Pollution_range:\",sorted(df['pollutant_avg'].unique()))"
   ]
  },
  {
   "cell_type": "code",
   "execution_count": 24,
   "metadata": {},
   "outputs": [
    {
     "data": {
      "text/html": [
       "<div>\n",
       "<style scoped>\n",
       "    .dataframe tbody tr th:only-of-type {\n",
       "        vertical-align: middle;\n",
       "    }\n",
       "\n",
       "    .dataframe tbody tr th {\n",
       "        vertical-align: top;\n",
       "    }\n",
       "\n",
       "    .dataframe thead th {\n",
       "        text-align: right;\n",
       "    }\n",
       "</style>\n",
       "<table border=\"1\" class=\"dataframe\">\n",
       "  <thead>\n",
       "    <tr style=\"text-align: right;\">\n",
       "      <th>pollutant_id</th>\n",
       "      <th>CO</th>\n",
       "      <th>NH3</th>\n",
       "      <th>NO2</th>\n",
       "      <th>OZONE</th>\n",
       "      <th>PM10</th>\n",
       "      <th>PM2.5</th>\n",
       "      <th>SO2</th>\n",
       "    </tr>\n",
       "    <tr>\n",
       "      <th>city</th>\n",
       "      <th></th>\n",
       "      <th></th>\n",
       "      <th></th>\n",
       "      <th></th>\n",
       "      <th></th>\n",
       "      <th></th>\n",
       "      <th></th>\n",
       "    </tr>\n",
       "  </thead>\n",
       "  <tbody>\n",
       "    <tr>\n",
       "      <th>Aurangabad</th>\n",
       "      <td>1</td>\n",
       "      <td>1</td>\n",
       "      <td>1</td>\n",
       "      <td>1</td>\n",
       "      <td>1</td>\n",
       "      <td>1</td>\n",
       "      <td>1</td>\n",
       "    </tr>\n",
       "    <tr>\n",
       "      <th>Chandrapur</th>\n",
       "      <td>2</td>\n",
       "      <td>2</td>\n",
       "      <td>2</td>\n",
       "      <td>2</td>\n",
       "      <td>2</td>\n",
       "      <td>2</td>\n",
       "      <td>2</td>\n",
       "    </tr>\n",
       "    <tr>\n",
       "      <th>Kalyan</th>\n",
       "      <td>1</td>\n",
       "      <td>1</td>\n",
       "      <td>1</td>\n",
       "      <td>1</td>\n",
       "      <td>1</td>\n",
       "      <td>1</td>\n",
       "      <td>0</td>\n",
       "    </tr>\n",
       "    <tr>\n",
       "      <th>Mumbai</th>\n",
       "      <td>21</td>\n",
       "      <td>18</td>\n",
       "      <td>19</td>\n",
       "      <td>20</td>\n",
       "      <td>18</td>\n",
       "      <td>18</td>\n",
       "      <td>18</td>\n",
       "    </tr>\n",
       "    <tr>\n",
       "      <th>Nagpur</th>\n",
       "      <td>1</td>\n",
       "      <td>1</td>\n",
       "      <td>1</td>\n",
       "      <td>1</td>\n",
       "      <td>1</td>\n",
       "      <td>1</td>\n",
       "      <td>1</td>\n",
       "    </tr>\n",
       "    <tr>\n",
       "      <th>Nashik</th>\n",
       "      <td>1</td>\n",
       "      <td>1</td>\n",
       "      <td>1</td>\n",
       "      <td>1</td>\n",
       "      <td>1</td>\n",
       "      <td>1</td>\n",
       "      <td>1</td>\n",
       "    </tr>\n",
       "    <tr>\n",
       "      <th>Navi Mumbai</th>\n",
       "      <td>3</td>\n",
       "      <td>2</td>\n",
       "      <td>3</td>\n",
       "      <td>3</td>\n",
       "      <td>3</td>\n",
       "      <td>3</td>\n",
       "      <td>2</td>\n",
       "    </tr>\n",
       "    <tr>\n",
       "      <th>Pune</th>\n",
       "      <td>6</td>\n",
       "      <td>0</td>\n",
       "      <td>4</td>\n",
       "      <td>7</td>\n",
       "      <td>5</td>\n",
       "      <td>5</td>\n",
       "      <td>1</td>\n",
       "    </tr>\n",
       "    <tr>\n",
       "      <th>Solapur</th>\n",
       "      <td>0</td>\n",
       "      <td>0</td>\n",
       "      <td>1</td>\n",
       "      <td>1</td>\n",
       "      <td>1</td>\n",
       "      <td>1</td>\n",
       "      <td>1</td>\n",
       "    </tr>\n",
       "    <tr>\n",
       "      <th>Thane</th>\n",
       "      <td>1</td>\n",
       "      <td>1</td>\n",
       "      <td>1</td>\n",
       "      <td>1</td>\n",
       "      <td>1</td>\n",
       "      <td>0</td>\n",
       "      <td>1</td>\n",
       "    </tr>\n",
       "  </tbody>\n",
       "</table>\n",
       "</div>"
      ],
      "text/plain": [
       "pollutant_id  CO  NH3  NO2  OZONE  PM10  PM2.5  SO2\n",
       "city                                               \n",
       "Aurangabad     1    1    1      1     1      1    1\n",
       "Chandrapur     2    2    2      2     2      2    2\n",
       "Kalyan         1    1    1      1     1      1    0\n",
       "Mumbai        21   18   19     20    18     18   18\n",
       "Nagpur         1    1    1      1     1      1    1\n",
       "Nashik         1    1    1      1     1      1    1\n",
       "Navi Mumbai    3    2    3      3     3      3    2\n",
       "Pune           6    0    4      7     5      5    1\n",
       "Solapur        0    0    1      1     1      1    1\n",
       "Thane          1    1    1      1     1      0    1"
      ]
     },
     "execution_count": 24,
     "metadata": {},
     "output_type": "execute_result"
    }
   ],
   "source": [
    "pd.crosstab(df.city,df.pollutant_id)"
   ]
  },
  {
   "cell_type": "code",
   "execution_count": 25,
   "metadata": {},
   "outputs": [
    {
     "data": {
      "text/plain": [
       "array(['PM2.5', 'PM10', 'NO2', 'NH3', 'SO2', 'CO', 'OZONE'], dtype=object)"
      ]
     },
     "execution_count": 25,
     "metadata": {},
     "output_type": "execute_result"
    }
   ],
   "source": [
    "df['pollutant_id'].unique()"
   ]
  },
  {
   "cell_type": "code",
   "execution_count": 26,
   "metadata": {},
   "outputs": [
    {
     "data": {
      "text/html": [
       "<div>\n",
       "<style scoped>\n",
       "    .dataframe tbody tr th:only-of-type {\n",
       "        vertical-align: middle;\n",
       "    }\n",
       "\n",
       "    .dataframe tbody tr th {\n",
       "        vertical-align: top;\n",
       "    }\n",
       "\n",
       "    .dataframe thead th {\n",
       "        text-align: right;\n",
       "    }\n",
       "</style>\n",
       "<table border=\"1\" class=\"dataframe\">\n",
       "  <thead>\n",
       "    <tr style=\"text-align: right;\">\n",
       "      <th></th>\n",
       "      <th>id</th>\n",
       "      <th>pollutant_avg</th>\n",
       "      <th>pollutant_max</th>\n",
       "      <th>pollutant_min</th>\n",
       "    </tr>\n",
       "  </thead>\n",
       "  <tbody>\n",
       "    <tr>\n",
       "      <th>count</th>\n",
       "      <td>231.000000</td>\n",
       "      <td>231.000000</td>\n",
       "      <td>231.000000</td>\n",
       "      <td>231.000000</td>\n",
       "    </tr>\n",
       "    <tr>\n",
       "      <th>mean</th>\n",
       "      <td>1024.038961</td>\n",
       "      <td>68.103896</td>\n",
       "      <td>114.623377</td>\n",
       "      <td>31.043290</td>\n",
       "    </tr>\n",
       "    <tr>\n",
       "      <th>std</th>\n",
       "      <td>71.391043</td>\n",
       "      <td>70.534528</td>\n",
       "      <td>115.250771</td>\n",
       "      <td>35.852571</td>\n",
       "    </tr>\n",
       "    <tr>\n",
       "      <th>min</th>\n",
       "      <td>902.000000</td>\n",
       "      <td>1.000000</td>\n",
       "      <td>1.000000</td>\n",
       "      <td>1.000000</td>\n",
       "    </tr>\n",
       "    <tr>\n",
       "      <th>25%</th>\n",
       "      <td>964.000000</td>\n",
       "      <td>16.500000</td>\n",
       "      <td>30.000000</td>\n",
       "      <td>4.000000</td>\n",
       "    </tr>\n",
       "    <tr>\n",
       "      <th>50%</th>\n",
       "      <td>1023.000000</td>\n",
       "      <td>42.000000</td>\n",
       "      <td>74.000000</td>\n",
       "      <td>18.000000</td>\n",
       "    </tr>\n",
       "    <tr>\n",
       "      <th>75%</th>\n",
       "      <td>1083.500000</td>\n",
       "      <td>95.500000</td>\n",
       "      <td>164.500000</td>\n",
       "      <td>48.000000</td>\n",
       "    </tr>\n",
       "    <tr>\n",
       "      <th>max</th>\n",
       "      <td>1150.000000</td>\n",
       "      <td>364.000000</td>\n",
       "      <td>500.000000</td>\n",
       "      <td>178.000000</td>\n",
       "    </tr>\n",
       "  </tbody>\n",
       "</table>\n",
       "</div>"
      ],
      "text/plain": [
       "                id  pollutant_avg  pollutant_max  pollutant_min\n",
       "count   231.000000     231.000000     231.000000     231.000000\n",
       "mean   1024.038961      68.103896     114.623377      31.043290\n",
       "std      71.391043      70.534528     115.250771      35.852571\n",
       "min     902.000000       1.000000       1.000000       1.000000\n",
       "25%     964.000000      16.500000      30.000000       4.000000\n",
       "50%    1023.000000      42.000000      74.000000      18.000000\n",
       "75%    1083.500000      95.500000     164.500000      48.000000\n",
       "max    1150.000000     364.000000     500.000000     178.000000"
      ]
     },
     "execution_count": 26,
     "metadata": {},
     "output_type": "execute_result"
    }
   ],
   "source": [
    "df.describe()"
   ]
  },
  {
   "cell_type": "code",
   "execution_count": 27,
   "metadata": {},
   "outputs": [
    {
     "data": {
      "image/png": "[encoded data removed]",
      "text/plain": [
       "<Figure size 1152x720 with 1 Axes>"
      ]
     },
     "metadata": {
      "needs_background": "light"
     },
     "output_type": "display_data"
    }
   ],
   "source": [
    "fig, ax = plt.subplots(figsize = (16,10))\n",
    "ax=sns.barplot(x='pollutant_id',y='pollutant_avg',data=df)\n",
    "ax.set(ylabel='pollutant details',title='pollutant by average pollution values')\n",
    "plt.show()"
   ]
  },
  {
   "cell_type": "code",
   "execution_count": 28,
   "metadata": {},
   "outputs": [
    {
     "data": {
      "text/plain": [
       "<matplotlib.axes._subplots.AxesSubplot at 0x1ebbb4cb0d0>"
      ]
     },
     "execution_count": 28,
     "metadata": {},
     "output_type": "execute_result"
    },
    {
     "data": {
      "image/png": "[encoded data removed]",
      "text/plain": [
       "<Figure size 1080x720 with 2 Axes>"
      ]
     },
     "metadata": {
      "needs_background": "light"
     },
     "output_type": "display_data"
    }
   ],
   "source": [
    "fig,ax=plt.subplots(figsize=(15,10))\n",
    "sns.heatmap(df.corr(),annot=True)"
   ]
  },
  {
   "cell_type": "code",
   "execution_count": 29,
   "metadata": {},
   "outputs": [
    {
     "data": {
      "text/html": [
       "<div>\n",
       "<style scoped>\n",
       "    .dataframe tbody tr th:only-of-type {\n",
       "        vertical-align: middle;\n",
       "    }\n",
       "\n",
       "    .dataframe tbody tr th {\n",
       "        vertical-align: top;\n",
       "    }\n",
       "\n",
       "    .dataframe thead th {\n",
       "        text-align: right;\n",
       "    }\n",
       "</style>\n",
       "<table border=\"1\" class=\"dataframe\">\n",
       "  <thead>\n",
       "    <tr style=\"text-align: right;\">\n",
       "      <th></th>\n",
       "      <th>id</th>\n",
       "      <th>pollutant_avg</th>\n",
       "      <th>pollutant_max</th>\n",
       "      <th>pollutant_min</th>\n",
       "    </tr>\n",
       "  </thead>\n",
       "  <tbody>\n",
       "    <tr>\n",
       "      <th>id</th>\n",
       "      <td>1.000000</td>\n",
       "      <td>0.002540</td>\n",
       "      <td>0.016538</td>\n",
       "      <td>0.022320</td>\n",
       "    </tr>\n",
       "    <tr>\n",
       "      <th>pollutant_avg</th>\n",
       "      <td>0.002540</td>\n",
       "      <td>1.000000</td>\n",
       "      <td>0.934465</td>\n",
       "      <td>0.803173</td>\n",
       "    </tr>\n",
       "    <tr>\n",
       "      <th>pollutant_max</th>\n",
       "      <td>0.016538</td>\n",
       "      <td>0.934465</td>\n",
       "      <td>1.000000</td>\n",
       "      <td>0.768584</td>\n",
       "    </tr>\n",
       "    <tr>\n",
       "      <th>pollutant_min</th>\n",
       "      <td>0.022320</td>\n",
       "      <td>0.803173</td>\n",
       "      <td>0.768584</td>\n",
       "      <td>1.000000</td>\n",
       "    </tr>\n",
       "  </tbody>\n",
       "</table>\n",
       "</div>"
      ],
      "text/plain": [
       "                     id  pollutant_avg  pollutant_max  pollutant_min\n",
       "id             1.000000       0.002540       0.016538       0.022320\n",
       "pollutant_avg  0.002540       1.000000       0.934465       0.803173\n",
       "pollutant_max  0.016538       0.934465       1.000000       0.768584\n",
       "pollutant_min  0.022320       0.803173       0.768584       1.000000"
      ]
     },
     "execution_count": 29,
     "metadata": {},
     "output_type": "execute_result"
    }
   ],
   "source": [
    "df.corr()"
   ]
  },
  {
   "cell_type": "markdown",
   "metadata": {},
   "source": [
    "## Module 2: Exploration data analysis of visualization and training a model by given attributes"
   ]
  },
  {
   "cell_type": "code",
   "execution_count": 30,
   "metadata": {},
   "outputs": [
    {
     "data": {
      "text/plain": [
       "array(['PM2.5', 'PM10', 'NO2', 'NH3', 'SO2', 'CO', 'OZONE'], dtype=object)"
      ]
     },
     "execution_count": 30,
     "metadata": {},
     "output_type": "execute_result"
    }
   ],
   "source": [
    "df['pollutant_id'].unique()"
   ]
  },
  {
   "cell_type": "code",
   "execution_count": 36,
   "metadata": {},
   "outputs": [
    {
     "data": {
      "text/plain": [
       "OZONE    16.45\n",
       "CO       16.02\n",
       "NO2      14.72\n",
       "PM10     14.72\n",
       "PM2.5    14.29\n",
       "SO2      12.12\n",
       "NH3      11.69\n",
       "Name: pollutant_id, dtype: float64"
      ]
     },
     "execution_count": 36,
     "metadata": {},
     "output_type": "execute_result"
    },
    {
     "data": {
      "image/png": "[encoded data removed]",
      "text/plain": [
       "<Figure size 720x720 with 1 Axes>"
      ]
     },
     "metadata": {},
     "output_type": "display_data"
    }
   ],
   "source": [
    "#Prapogation by variable\n",
    "def PropByVar(df, variable):\n",
    "    dataframe_pie = df[variable].value_counts()\n",
    "    ax = dataframe_pie.plot.pie(figsize=(10,10), autopct = '%1.2f%%', fontsize = 12)\n",
    "    ax.set_title(variable +'\\n', fontsize = 15)\n",
    "    return np.round(dataframe_pie/df.shape[0]*100,2)\n",
    "PropByVar(df,'pollutant_id')\n"
   ]
  },
  {
   "cell_type": "code",
   "execution_count": 37,
   "metadata": {},
   "outputs": [
    {
     "data": {
      "text/plain": [
       "Mumbai         57.14\n",
       "Pune           12.12\n",
       "Navi Mumbai     8.23\n",
       "Chandrapur      6.06\n",
       "Aurangabad      3.03\n",
       "Nashik          3.03\n",
       "Nagpur          3.03\n",
       "Kalyan          2.60\n",
       "Thane           2.60\n",
       "Solapur         2.16\n",
       "Name: city, dtype: float64"
      ]
     },
     "execution_count": 37,
     "metadata": {},
     "output_type": "execute_result"
    },
    {
     "data": {
      "image/png": "[encoded data removed]",
      "text/plain": [
       "<Figure size 720x720 with 1 Axes>"
      ]
     },
     "metadata": {},
     "output_type": "display_data"
    }
   ],
   "source": [
    "#Prapogation by variable\n",
    "def PropByVar(df, variable):\n",
    "    dataframe_pie = df[variable].value_counts()\n",
    "    ax = dataframe_pie.plot.pie(figsize=(10,10),autopct = '%1.2f%%', fontsize = 12)\n",
    "    ax.set_title(variable + '\\n' , fontsize = 15)\n",
    "    return np.round(dataframe_pie/df.shape[0]*100,2)\n",
    "PropByVar(df,'city')"
   ]
  },
  {
   "cell_type": "code",
   "execution_count": 39,
   "metadata": {},
   "outputs": [
    {
     "data": {
      "text/plain": [
       "<matplotlib.axes._subplots.AxesSubplot at 0x1ebbc921880>"
      ]
     },
     "execution_count": 39,
     "metadata": {},
     "output_type": "execute_result"
    },
    {
     "data": {
      "image/png": "[encoded data removed]",
      "text/plain": [
       "<Figure size 432x288 with 1 Axes>"
      ]
     },
     "metadata": {
      "needs_background": "light"
     },
     "output_type": "display_data"
    }
   ],
   "source": [
    "df.boxplot(column = \"pollutant_avg\", by=\"pollutant_id\")"
   ]
  },
  {
   "cell_type": "code",
   "execution_count": 43,
   "metadata": {},
   "outputs": [
    {
     "data": {
      "image/png": "[encoded data removed]",
      "text/plain": [
       "<Figure size 432x288 with 1 Axes>"
      ]
     },
     "metadata": {
      "needs_background": "light"
     },
     "output_type": "display_data"
    }
   ],
   "source": [
    "pollutant_avg = df[\"pollutant_avg\"]\n",
    "pol = df[\"pollutant_id\"]\n",
    "city = df[\"city\"]\n",
    "state = df[\"state\"]\n",
    "st = df[\"station\"]\n",
    "\n",
    "plt.plot(st, pollutant_avg, color= 'g')\n",
    "plt.xlabel('Average value of pollution')\n",
    "plt.ylabel('Number of stations')\n",
    "plt.title('pollutant_id Details by each stations')\n",
    "plt.show()"
   ]
  },
  {
   "cell_type": "code",
   "execution_count": 45,
   "metadata": {},
   "outputs": [
    {
     "data": {
      "text/plain": [
       "Index(['_id', 'city', 'country', 'id', 'lst_update', 'pollutant_avg',\n",
       "       'pollutant_id', 'pollutant_max', 'pollutant_min', 'state', 'station'],\n",
       "      dtype='object')"
      ]
     },
     "execution_count": 45,
     "metadata": {},
     "output_type": "execute_result"
    }
   ],
   "source": [
    "df.columns"
   ]
  },
  {
   "cell_type": "code",
   "execution_count": 49,
   "metadata": {},
   "outputs": [],
   "source": [
    "from sklearn.preprocessing import LabelEncoder\n",
    "var_mod = ['country','state','city','station','lst_update','pollutant_avg','pollutant_max','pollutant_min','pollutant_id']\n",
    "le = LabelEncoder()\n",
    "for i in var_mod:\n",
    "    df[i] = le.fit_transform(df[i]).astype(str)"
   ]
  },
  {
   "cell_type": "code",
   "execution_count": 58,
   "metadata": {},
   "outputs": [
    {
     "data": {
      "text/html": [
       "<div>\n",
       "<style scoped>\n",
       "    .dataframe tbody tr th:only-of-type {\n",
       "        vertical-align: middle;\n",
       "    }\n",
       "\n",
       "    .dataframe tbody tr th {\n",
       "        vertical-align: top;\n",
       "    }\n",
       "\n",
       "    .dataframe thead th {\n",
       "        text-align: right;\n",
       "    }\n",
       "</style>\n",
       "<table border=\"1\" class=\"dataframe\">\n",
       "  <thead>\n",
       "    <tr style=\"text-align: right;\">\n",
       "      <th></th>\n",
       "      <th>_id</th>\n",
       "      <th>city</th>\n",
       "      <th>country</th>\n",
       "      <th>id</th>\n",
       "      <th>lst_update</th>\n",
       "      <th>pollutant_avg</th>\n",
       "      <th>pollutant_id</th>\n",
       "      <th>pollutant_max</th>\n",
       "      <th>pollutant_min</th>\n",
       "      <th>state</th>\n",
       "      <th>station</th>\n",
       "      <th>AQI</th>\n",
       "    </tr>\n",
       "  </thead>\n",
       "  <tbody>\n",
       "    <tr>\n",
       "      <th>31</th>\n",
       "      <td>60002c430aa8bb753a28fe42</td>\n",
       "      <td>3</td>\n",
       "      <td>0</td>\n",
       "      <td>934</td>\n",
       "      <td>0</td>\n",
       "      <td>25</td>\n",
       "      <td>0</td>\n",
       "      <td>41</td>\n",
       "      <td>0</td>\n",
       "      <td>0</td>\n",
       "      <td>1</td>\n",
       "      <td>NaN</td>\n",
       "    </tr>\n",
       "    <tr>\n",
       "      <th>32</th>\n",
       "      <td>60002c430aa8bb753a28fe43</td>\n",
       "      <td>3</td>\n",
       "      <td>0</td>\n",
       "      <td>935</td>\n",
       "      <td>0</td>\n",
       "      <td>3</td>\n",
       "      <td>3</td>\n",
       "      <td>3</td>\n",
       "      <td>1</td>\n",
       "      <td>0</td>\n",
       "      <td>1</td>\n",
       "      <td>NaN</td>\n",
       "    </tr>\n",
       "    <tr>\n",
       "      <th>33</th>\n",
       "      <td>60002c430aa8bb753a28fe44</td>\n",
       "      <td>3</td>\n",
       "      <td>0</td>\n",
       "      <td>936</td>\n",
       "      <td>0</td>\n",
       "      <td>47</td>\n",
       "      <td>4</td>\n",
       "      <td>42</td>\n",
       "      <td>43</td>\n",
       "      <td>0</td>\n",
       "      <td>2</td>\n",
       "      <td>NaN</td>\n",
       "    </tr>\n",
       "    <tr>\n",
       "      <th>34</th>\n",
       "      <td>60002c430aa8bb753a28fe45</td>\n",
       "      <td>3</td>\n",
       "      <td>0</td>\n",
       "      <td>937</td>\n",
       "      <td>0</td>\n",
       "      <td>0</td>\n",
       "      <td>2</td>\n",
       "      <td>0</td>\n",
       "      <td>0</td>\n",
       "      <td>0</td>\n",
       "      <td>2</td>\n",
       "      <td>NaN</td>\n",
       "    </tr>\n",
       "    <tr>\n",
       "      <th>35</th>\n",
       "      <td>60002c430aa8bb753a28fe46</td>\n",
       "      <td>3</td>\n",
       "      <td>0</td>\n",
       "      <td>938</td>\n",
       "      <td>0</td>\n",
       "      <td>19</td>\n",
       "      <td>6</td>\n",
       "      <td>15</td>\n",
       "      <td>18</td>\n",
       "      <td>0</td>\n",
       "      <td>2</td>\n",
       "      <td>NaN</td>\n",
       "    </tr>\n",
       "    <tr>\n",
       "      <th>...</th>\n",
       "      <td>...</td>\n",
       "      <td>...</td>\n",
       "      <td>...</td>\n",
       "      <td>...</td>\n",
       "      <td>...</td>\n",
       "      <td>...</td>\n",
       "      <td>...</td>\n",
       "      <td>...</td>\n",
       "      <td>...</td>\n",
       "      <td>...</td>\n",
       "      <td>...</td>\n",
       "      <td>...</td>\n",
       "    </tr>\n",
       "    <tr>\n",
       "      <th>226</th>\n",
       "      <td>60002c430aa8bb753a28ff05</td>\n",
       "      <td>9</td>\n",
       "      <td>0</td>\n",
       "      <td>1146</td>\n",
       "      <td>0</td>\n",
       "      <td>40</td>\n",
       "      <td>2</td>\n",
       "      <td>53</td>\n",
       "      <td>23</td>\n",
       "      <td>0</td>\n",
       "      <td>29</td>\n",
       "      <td>NaN</td>\n",
       "    </tr>\n",
       "    <tr>\n",
       "      <th>227</th>\n",
       "      <td>60002c430aa8bb753a28ff06</td>\n",
       "      <td>9</td>\n",
       "      <td>0</td>\n",
       "      <td>1147</td>\n",
       "      <td>0</td>\n",
       "      <td>7</td>\n",
       "      <td>1</td>\n",
       "      <td>8</td>\n",
       "      <td>5</td>\n",
       "      <td>0</td>\n",
       "      <td>29</td>\n",
       "      <td>NaN</td>\n",
       "    </tr>\n",
       "    <tr>\n",
       "      <th>228</th>\n",
       "      <td>60002c430aa8bb753a28ff07</td>\n",
       "      <td>9</td>\n",
       "      <td>0</td>\n",
       "      <td>1148</td>\n",
       "      <td>0</td>\n",
       "      <td>18</td>\n",
       "      <td>6</td>\n",
       "      <td>49</td>\n",
       "      <td>0</td>\n",
       "      <td>0</td>\n",
       "      <td>29</td>\n",
       "      <td>NaN</td>\n",
       "    </tr>\n",
       "    <tr>\n",
       "      <th>229</th>\n",
       "      <td>60002c430aa8bb753a28ff08</td>\n",
       "      <td>9</td>\n",
       "      <td>0</td>\n",
       "      <td>1149</td>\n",
       "      <td>0</td>\n",
       "      <td>13</td>\n",
       "      <td>0</td>\n",
       "      <td>28</td>\n",
       "      <td>4</td>\n",
       "      <td>0</td>\n",
       "      <td>29</td>\n",
       "      <td>NaN</td>\n",
       "    </tr>\n",
       "    <tr>\n",
       "      <th>230</th>\n",
       "      <td>60002c430aa8bb753a28ff09</td>\n",
       "      <td>9</td>\n",
       "      <td>0</td>\n",
       "      <td>1150</td>\n",
       "      <td>0</td>\n",
       "      <td>22</td>\n",
       "      <td>3</td>\n",
       "      <td>62</td>\n",
       "      <td>4</td>\n",
       "      <td>0</td>\n",
       "      <td>29</td>\n",
       "      <td>NaN</td>\n",
       "    </tr>\n",
       "  </tbody>\n",
       "</table>\n",
       "<p>200 rows × 12 columns</p>\n",
       "</div>"
      ],
      "text/plain": [
       "                          _id city country    id lst_update pollutant_avg  \\\n",
       "31   60002c430aa8bb753a28fe42    3       0   934          0            25   \n",
       "32   60002c430aa8bb753a28fe43    3       0   935          0             3   \n",
       "33   60002c430aa8bb753a28fe44    3       0   936          0            47   \n",
       "34   60002c430aa8bb753a28fe45    3       0   937          0             0   \n",
       "35   60002c430aa8bb753a28fe46    3       0   938          0            19   \n",
       "..                        ...  ...     ...   ...        ...           ...   \n",
       "226  60002c430aa8bb753a28ff05    9       0  1146          0            40   \n",
       "227  60002c430aa8bb753a28ff06    9       0  1147          0             7   \n",
       "228  60002c430aa8bb753a28ff07    9       0  1148          0            18   \n",
       "229  60002c430aa8bb753a28ff08    9       0  1149          0            13   \n",
       "230  60002c430aa8bb753a28ff09    9       0  1150          0            22   \n",
       "\n",
       "    pollutant_id pollutant_max pollutant_min state station  AQI  \n",
       "31             0            41             0     0       1  NaN  \n",
       "32             3             3             1     0       1  NaN  \n",
       "33             4            42            43     0       2  NaN  \n",
       "34             2             0             0     0       2  NaN  \n",
       "35             6            15            18     0       2  NaN  \n",
       "..           ...           ...           ...   ...     ...  ...  \n",
       "226            2            53            23     0      29  NaN  \n",
       "227            1             8             5     0      29  NaN  \n",
       "228            6            49             0     0      29  NaN  \n",
       "229            0            28             4     0      29  NaN  \n",
       "230            3            62             4     0      29  NaN  \n",
       "\n",
       "[200 rows x 12 columns]"
      ]
     },
     "execution_count": 58,
     "metadata": {},
     "output_type": "execute_result"
    }
   ],
   "source": [
    "df.tail()"
   ]
  },
  {
   "cell_type": "code",
   "execution_count": 56,
   "metadata": {},
   "outputs": [],
   "source": [
    "df['AQI'] = df.pollutant_avg.map({'68':'satisfactor','74':'satisfactor','4':'good','39':'good','42':'good','27':'good'})"
   ]
  },
  {
   "cell_type": "code",
   "execution_count": 59,
   "metadata": {},
   "outputs": [
    {
     "data": {
      "text/html": [
       "<div>\n",
       "<style scoped>\n",
       "    .dataframe tbody tr th:only-of-type {\n",
       "        vertical-align: middle;\n",
       "    }\n",
       "\n",
       "    .dataframe tbody tr th {\n",
       "        vertical-align: top;\n",
       "    }\n",
       "\n",
       "    .dataframe thead th {\n",
       "        text-align: right;\n",
       "    }\n",
       "</style>\n",
       "<table border=\"1\" class=\"dataframe\">\n",
       "  <thead>\n",
       "    <tr style=\"text-align: right;\">\n",
       "      <th></th>\n",
       "      <th>_id</th>\n",
       "      <th>city</th>\n",
       "      <th>country</th>\n",
       "      <th>id</th>\n",
       "      <th>lst_update</th>\n",
       "      <th>pollutant_avg</th>\n",
       "      <th>pollutant_id</th>\n",
       "      <th>pollutant_max</th>\n",
       "      <th>pollutant_min</th>\n",
       "      <th>state</th>\n",
       "      <th>station</th>\n",
       "      <th>AQI</th>\n",
       "    </tr>\n",
       "  </thead>\n",
       "  <tbody>\n",
       "    <tr>\n",
       "      <th>0</th>\n",
       "      <td>60002c430aa8bb753a28fe23</td>\n",
       "      <td>0</td>\n",
       "      <td>0</td>\n",
       "      <td>902</td>\n",
       "      <td>0</td>\n",
       "      <td>55</td>\n",
       "      <td>5</td>\n",
       "      <td>68</td>\n",
       "      <td>34</td>\n",
       "      <td>0</td>\n",
       "      <td>24</td>\n",
       "      <td>NaN</td>\n",
       "    </tr>\n",
       "    <tr>\n",
       "      <th>1</th>\n",
       "      <td>60002c430aa8bb753a28fe24</td>\n",
       "      <td>0</td>\n",
       "      <td>0</td>\n",
       "      <td>903</td>\n",
       "      <td>0</td>\n",
       "      <td>66</td>\n",
       "      <td>4</td>\n",
       "      <td>77</td>\n",
       "      <td>51</td>\n",
       "      <td>0</td>\n",
       "      <td>24</td>\n",
       "      <td>NaN</td>\n",
       "    </tr>\n",
       "    <tr>\n",
       "      <th>2</th>\n",
       "      <td>60002c430aa8bb753a28fe25</td>\n",
       "      <td>0</td>\n",
       "      <td>0</td>\n",
       "      <td>904</td>\n",
       "      <td>0</td>\n",
       "      <td>32</td>\n",
       "      <td>2</td>\n",
       "      <td>31</td>\n",
       "      <td>28</td>\n",
       "      <td>0</td>\n",
       "      <td>24</td>\n",
       "      <td>NaN</td>\n",
       "    </tr>\n",
       "    <tr>\n",
       "      <th>3</th>\n",
       "      <td>60002c430aa8bb753a28fe26</td>\n",
       "      <td>0</td>\n",
       "      <td>0</td>\n",
       "      <td>905</td>\n",
       "      <td>0</td>\n",
       "      <td>2</td>\n",
       "      <td>1</td>\n",
       "      <td>2</td>\n",
       "      <td>2</td>\n",
       "      <td>0</td>\n",
       "      <td>24</td>\n",
       "      <td>NaN</td>\n",
       "    </tr>\n",
       "    <tr>\n",
       "      <th>4</th>\n",
       "      <td>60002c430aa8bb753a28fe27</td>\n",
       "      <td>0</td>\n",
       "      <td>0</td>\n",
       "      <td>906</td>\n",
       "      <td>0</td>\n",
       "      <td>18</td>\n",
       "      <td>6</td>\n",
       "      <td>15</td>\n",
       "      <td>17</td>\n",
       "      <td>0</td>\n",
       "      <td>24</td>\n",
       "      <td>NaN</td>\n",
       "    </tr>\n",
       "    <tr>\n",
       "      <th>...</th>\n",
       "      <td>...</td>\n",
       "      <td>...</td>\n",
       "      <td>...</td>\n",
       "      <td>...</td>\n",
       "      <td>...</td>\n",
       "      <td>...</td>\n",
       "      <td>...</td>\n",
       "      <td>...</td>\n",
       "      <td>...</td>\n",
       "      <td>...</td>\n",
       "      <td>...</td>\n",
       "      <td>...</td>\n",
       "    </tr>\n",
       "    <tr>\n",
       "      <th>95</th>\n",
       "      <td>60002c430aa8bb753a28fe82</td>\n",
       "      <td>3</td>\n",
       "      <td>0</td>\n",
       "      <td>1003</td>\n",
       "      <td>0</td>\n",
       "      <td>124</td>\n",
       "      <td>5</td>\n",
       "      <td>143</td>\n",
       "      <td>54</td>\n",
       "      <td>0</td>\n",
       "      <td>21</td>\n",
       "      <td>NaN</td>\n",
       "    </tr>\n",
       "    <tr>\n",
       "      <th>96</th>\n",
       "      <td>60002c430aa8bb753a28fe83</td>\n",
       "      <td>3</td>\n",
       "      <td>0</td>\n",
       "      <td>1004</td>\n",
       "      <td>0</td>\n",
       "      <td>125</td>\n",
       "      <td>4</td>\n",
       "      <td>146</td>\n",
       "      <td>50</td>\n",
       "      <td>0</td>\n",
       "      <td>21</td>\n",
       "      <td>NaN</td>\n",
       "    </tr>\n",
       "    <tr>\n",
       "      <th>97</th>\n",
       "      <td>60002c430aa8bb753a28fe84</td>\n",
       "      <td>3</td>\n",
       "      <td>0</td>\n",
       "      <td>1005</td>\n",
       "      <td>0</td>\n",
       "      <td>46</td>\n",
       "      <td>2</td>\n",
       "      <td>78</td>\n",
       "      <td>15</td>\n",
       "      <td>0</td>\n",
       "      <td>21</td>\n",
       "      <td>NaN</td>\n",
       "    </tr>\n",
       "    <tr>\n",
       "      <th>98</th>\n",
       "      <td>60002c430aa8bb753a28fe85</td>\n",
       "      <td>3</td>\n",
       "      <td>0</td>\n",
       "      <td>1006</td>\n",
       "      <td>0</td>\n",
       "      <td>3</td>\n",
       "      <td>1</td>\n",
       "      <td>5</td>\n",
       "      <td>2</td>\n",
       "      <td>0</td>\n",
       "      <td>21</td>\n",
       "      <td>NaN</td>\n",
       "    </tr>\n",
       "    <tr>\n",
       "      <th>99</th>\n",
       "      <td>60002c430aa8bb753a28fe86</td>\n",
       "      <td>3</td>\n",
       "      <td>0</td>\n",
       "      <td>1007</td>\n",
       "      <td>0</td>\n",
       "      <td>5</td>\n",
       "      <td>6</td>\n",
       "      <td>10</td>\n",
       "      <td>2</td>\n",
       "      <td>0</td>\n",
       "      <td>21</td>\n",
       "      <td>NaN</td>\n",
       "    </tr>\n",
       "  </tbody>\n",
       "</table>\n",
       "<p>100 rows × 12 columns</p>\n",
       "</div>"
      ],
      "text/plain": [
       "                         _id city country    id lst_update pollutant_avg  \\\n",
       "0   60002c430aa8bb753a28fe23    0       0   902          0            55   \n",
       "1   60002c430aa8bb753a28fe24    0       0   903          0            66   \n",
       "2   60002c430aa8bb753a28fe25    0       0   904          0            32   \n",
       "3   60002c430aa8bb753a28fe26    0       0   905          0             2   \n",
       "4   60002c430aa8bb753a28fe27    0       0   906          0            18   \n",
       "..                       ...  ...     ...   ...        ...           ...   \n",
       "95  60002c430aa8bb753a28fe82    3       0  1003          0           124   \n",
       "96  60002c430aa8bb753a28fe83    3       0  1004          0           125   \n",
       "97  60002c430aa8bb753a28fe84    3       0  1005          0            46   \n",
       "98  60002c430aa8bb753a28fe85    3       0  1006          0             3   \n",
       "99  60002c430aa8bb753a28fe86    3       0  1007          0             5   \n",
       "\n",
       "   pollutant_id pollutant_max pollutant_min state station  AQI  \n",
       "0             5            68            34     0      24  NaN  \n",
       "1             4            77            51     0      24  NaN  \n",
       "2             2            31            28     0      24  NaN  \n",
       "3             1             2             2     0      24  NaN  \n",
       "4             6            15            17     0      24  NaN  \n",
       "..          ...           ...           ...   ...     ...  ...  \n",
       "95            5           143            54     0      21  NaN  \n",
       "96            4           146            50     0      21  NaN  \n",
       "97            2            78            15     0      21  NaN  \n",
       "98            1             5             2     0      21  NaN  \n",
       "99            6            10             2     0      21  NaN  \n",
       "\n",
       "[100 rows x 12 columns]"
      ]
     },
     "execution_count": 59,
     "metadata": {},
     "output_type": "execute_result"
    }
   ],
   "source": [
    "df.head(100)"
   ]
  },
  {
   "cell_type": "code",
   "execution_count": null,
   "metadata": {},
   "outputs": [],
   "source": [
    "df['class'] = df.AQI.map({'good':1,'moderate':0,'severe':0,'verypoor':0,'satisfactor':1,'poor':0})"
   ]
  },
  {
   "cell_type": "code",
   "execution_count": 63,
   "metadata": {},
   "outputs": [
    {
     "data": {
      "text/plain": [
       "0      5\n",
       "1      4\n",
       "2      2\n",
       "3      1\n",
       "4      6\n",
       "      ..\n",
       "226    2\n",
       "227    1\n",
       "228    6\n",
       "229    0\n",
       "230    3\n",
       "Name: pollutant_id, Length: 231, dtype: object"
      ]
     },
     "execution_count": 63,
     "metadata": {},
     "output_type": "execute_result"
    }
   ],
   "source": [
    "df['pollutant_id']"
   ]
  },
  {
   "cell_type": "code",
   "execution_count": 98,
   "metadata": {},
   "outputs": [
    {
     "data": {
      "text/html": [
       "<div>\n",
       "<style scoped>\n",
       "    .dataframe tbody tr th:only-of-type {\n",
       "        vertical-align: middle;\n",
       "    }\n",
       "\n",
       "    .dataframe tbody tr th {\n",
       "        vertical-align: top;\n",
       "    }\n",
       "\n",
       "    .dataframe thead th {\n",
       "        text-align: right;\n",
       "    }\n",
       "</style>\n",
       "<table border=\"1\" class=\"dataframe\">\n",
       "  <thead>\n",
       "    <tr style=\"text-align: right;\">\n",
       "      <th></th>\n",
       "      <th>_id</th>\n",
       "      <th>city</th>\n",
       "      <th>country</th>\n",
       "      <th>id</th>\n",
       "      <th>lst_update</th>\n",
       "      <th>pollutant_avg</th>\n",
       "      <th>pollutant_id</th>\n",
       "      <th>pollutant_max</th>\n",
       "      <th>pollutant_min</th>\n",
       "      <th>state</th>\n",
       "      <th>station</th>\n",
       "      <th>AQI</th>\n",
       "    </tr>\n",
       "  </thead>\n",
       "  <tbody>\n",
       "    <tr>\n",
       "      <th>0</th>\n",
       "      <td>60002c430aa8bb753a28fe23</td>\n",
       "      <td>Aurangabad</td>\n",
       "      <td>India</td>\n",
       "      <td>902</td>\n",
       "      <td>2021-01-13 22:30:00</td>\n",
       "      <td>59.0</td>\n",
       "      <td>PM2.5</td>\n",
       "      <td>86.0</td>\n",
       "      <td>37.0</td>\n",
       "      <td>Maharashtra</td>\n",
       "      <td>More Chowk Waluj, Aurangabad - MPCB</td>\n",
       "      <td>Moderate</td>\n",
       "    </tr>\n",
       "    <tr>\n",
       "      <th>1</th>\n",
       "      <td>60002c430aa8bb753a28fe24</td>\n",
       "      <td>Aurangabad</td>\n",
       "      <td>India</td>\n",
       "      <td>903</td>\n",
       "      <td>2021-01-13 22:30:00</td>\n",
       "      <td>82.0</td>\n",
       "      <td>PM10</td>\n",
       "      <td>103.0</td>\n",
       "      <td>62.0</td>\n",
       "      <td>Maharashtra</td>\n",
       "      <td>More Chowk Waluj, Aurangabad - MPCB</td>\n",
       "      <td>Moderate</td>\n",
       "    </tr>\n",
       "    <tr>\n",
       "      <th>2</th>\n",
       "      <td>60002c430aa8bb753a28fe25</td>\n",
       "      <td>Aurangabad</td>\n",
       "      <td>India</td>\n",
       "      <td>904</td>\n",
       "      <td>2021-01-13 22:30:00</td>\n",
       "      <td>34.0</td>\n",
       "      <td>NO2</td>\n",
       "      <td>36.0</td>\n",
       "      <td>30.0</td>\n",
       "      <td>Maharashtra</td>\n",
       "      <td>More Chowk Waluj, Aurangabad - MPCB</td>\n",
       "      <td>Good</td>\n",
       "    </tr>\n",
       "    <tr>\n",
       "      <th>3</th>\n",
       "      <td>60002c430aa8bb753a28fe26</td>\n",
       "      <td>Aurangabad</td>\n",
       "      <td>India</td>\n",
       "      <td>905</td>\n",
       "      <td>2021-01-13 22:30:00</td>\n",
       "      <td>3.0</td>\n",
       "      <td>NH3</td>\n",
       "      <td>3.0</td>\n",
       "      <td>3.0</td>\n",
       "      <td>Maharashtra</td>\n",
       "      <td>More Chowk Waluj, Aurangabad - MPCB</td>\n",
       "      <td>Good</td>\n",
       "    </tr>\n",
       "    <tr>\n",
       "      <th>4</th>\n",
       "      <td>60002c430aa8bb753a28fe27</td>\n",
       "      <td>Aurangabad</td>\n",
       "      <td>India</td>\n",
       "      <td>906</td>\n",
       "      <td>2021-01-13 22:30:00</td>\n",
       "      <td>19.0</td>\n",
       "      <td>SO2</td>\n",
       "      <td>20.0</td>\n",
       "      <td>18.0</td>\n",
       "      <td>Maharashtra</td>\n",
       "      <td>More Chowk Waluj, Aurangabad - MPCB</td>\n",
       "      <td>Good</td>\n",
       "    </tr>\n",
       "  </tbody>\n",
       "</table>\n",
       "</div>"
      ],
      "text/plain": [
       "                        _id        city country   id          lst_update  \\\n",
       "0  60002c430aa8bb753a28fe23  Aurangabad   India  902 2021-01-13 22:30:00   \n",
       "1  60002c430aa8bb753a28fe24  Aurangabad   India  903 2021-01-13 22:30:00   \n",
       "2  60002c430aa8bb753a28fe25  Aurangabad   India  904 2021-01-13 22:30:00   \n",
       "3  60002c430aa8bb753a28fe26  Aurangabad   India  905 2021-01-13 22:30:00   \n",
       "4  60002c430aa8bb753a28fe27  Aurangabad   India  906 2021-01-13 22:30:00   \n",
       "\n",
       "   pollutant_avg pollutant_id  pollutant_max  pollutant_min        state  \\\n",
       "0           59.0        PM2.5           86.0           37.0  Maharashtra   \n",
       "1           82.0         PM10          103.0           62.0  Maharashtra   \n",
       "2           34.0          NO2           36.0           30.0  Maharashtra   \n",
       "3            3.0          NH3            3.0            3.0  Maharashtra   \n",
       "4           19.0          SO2           20.0           18.0  Maharashtra   \n",
       "\n",
       "                               station       AQI  \n",
       "0  More Chowk Waluj, Aurangabad - MPCB  Moderate  \n",
       "1  More Chowk Waluj, Aurangabad - MPCB  Moderate  \n",
       "2  More Chowk Waluj, Aurangabad - MPCB      Good  \n",
       "3  More Chowk Waluj, Aurangabad - MPCB      Good  \n",
       "4  More Chowk Waluj, Aurangabad - MPCB      Good  "
      ]
     },
     "execution_count": 98,
     "metadata": {},
     "output_type": "execute_result"
    }
   ],
   "source": [
    "def AQI_Range(x):\n",
    "    x=int(x)\n",
    "    if x<=50:\n",
    "        return \"Good\"\n",
    "    elif x>51 and x<=100:\n",
    "        return \"Moderate\"\n",
    "    elif x>101 and x<=150:\n",
    "        return \"poor\"\n",
    "    elif x>151 and x<=200:\n",
    "        return \"unhealthy\"\n",
    "    elif x>201:\n",
    "        return \"hazardous\"\n",
    "\n",
    "data['AQI'] = df['pollutant_avg'].apply(AQI_Range)\n",
    "data.head()"
   ]
  },
  {
   "cell_type": "code",
   "execution_count": 99,
   "metadata": {},
   "outputs": [],
   "source": [
    "df['class'] = df.AQI.replace({'Good':'1','Moderate':'1','poor':'0','Hazardous':'0','Unhealthy':'0'})"
   ]
  },
  {
   "cell_type": "code",
   "execution_count": 100,
   "metadata": {},
   "outputs": [
    {
     "data": {
      "text/html": [
       "<div>\n",
       "<style scoped>\n",
       "    .dataframe tbody tr th:only-of-type {\n",
       "        vertical-align: middle;\n",
       "    }\n",
       "\n",
       "    .dataframe tbody tr th {\n",
       "        vertical-align: top;\n",
       "    }\n",
       "\n",
       "    .dataframe thead th {\n",
       "        text-align: right;\n",
       "    }\n",
       "</style>\n",
       "<table border=\"1\" class=\"dataframe\">\n",
       "  <thead>\n",
       "    <tr style=\"text-align: right;\">\n",
       "      <th></th>\n",
       "      <th>_id</th>\n",
       "      <th>city</th>\n",
       "      <th>country</th>\n",
       "      <th>id</th>\n",
       "      <th>lst_update</th>\n",
       "      <th>pollutant_avg</th>\n",
       "      <th>pollutant_id</th>\n",
       "      <th>pollutant_max</th>\n",
       "      <th>pollutant_min</th>\n",
       "      <th>state</th>\n",
       "      <th>station</th>\n",
       "      <th>AQI</th>\n",
       "      <th>class</th>\n",
       "    </tr>\n",
       "  </thead>\n",
       "  <tbody>\n",
       "    <tr>\n",
       "      <th>0</th>\n",
       "      <td>60002c430aa8bb753a28fe23</td>\n",
       "      <td>0</td>\n",
       "      <td>0</td>\n",
       "      <td>902</td>\n",
       "      <td>0</td>\n",
       "      <td>55</td>\n",
       "      <td>5</td>\n",
       "      <td>68</td>\n",
       "      <td>34</td>\n",
       "      <td>0</td>\n",
       "      <td>24</td>\n",
       "      <td>NaN</td>\n",
       "      <td>NaN</td>\n",
       "    </tr>\n",
       "    <tr>\n",
       "      <th>1</th>\n",
       "      <td>60002c430aa8bb753a28fe24</td>\n",
       "      <td>0</td>\n",
       "      <td>0</td>\n",
       "      <td>903</td>\n",
       "      <td>0</td>\n",
       "      <td>66</td>\n",
       "      <td>4</td>\n",
       "      <td>77</td>\n",
       "      <td>51</td>\n",
       "      <td>0</td>\n",
       "      <td>24</td>\n",
       "      <td>NaN</td>\n",
       "      <td>NaN</td>\n",
       "    </tr>\n",
       "    <tr>\n",
       "      <th>2</th>\n",
       "      <td>60002c430aa8bb753a28fe25</td>\n",
       "      <td>0</td>\n",
       "      <td>0</td>\n",
       "      <td>904</td>\n",
       "      <td>0</td>\n",
       "      <td>32</td>\n",
       "      <td>2</td>\n",
       "      <td>31</td>\n",
       "      <td>28</td>\n",
       "      <td>0</td>\n",
       "      <td>24</td>\n",
       "      <td>NaN</td>\n",
       "      <td>NaN</td>\n",
       "    </tr>\n",
       "    <tr>\n",
       "      <th>3</th>\n",
       "      <td>60002c430aa8bb753a28fe26</td>\n",
       "      <td>0</td>\n",
       "      <td>0</td>\n",
       "      <td>905</td>\n",
       "      <td>0</td>\n",
       "      <td>2</td>\n",
       "      <td>1</td>\n",
       "      <td>2</td>\n",
       "      <td>2</td>\n",
       "      <td>0</td>\n",
       "      <td>24</td>\n",
       "      <td>NaN</td>\n",
       "      <td>NaN</td>\n",
       "    </tr>\n",
       "    <tr>\n",
       "      <th>4</th>\n",
       "      <td>60002c430aa8bb753a28fe27</td>\n",
       "      <td>0</td>\n",
       "      <td>0</td>\n",
       "      <td>906</td>\n",
       "      <td>0</td>\n",
       "      <td>18</td>\n",
       "      <td>6</td>\n",
       "      <td>15</td>\n",
       "      <td>17</td>\n",
       "      <td>0</td>\n",
       "      <td>24</td>\n",
       "      <td>NaN</td>\n",
       "      <td>NaN</td>\n",
       "    </tr>\n",
       "  </tbody>\n",
       "</table>\n",
       "</div>"
      ],
      "text/plain": [
       "                        _id city country   id lst_update pollutant_avg  \\\n",
       "0  60002c430aa8bb753a28fe23    0       0  902          0            55   \n",
       "1  60002c430aa8bb753a28fe24    0       0  903          0            66   \n",
       "2  60002c430aa8bb753a28fe25    0       0  904          0            32   \n",
       "3  60002c430aa8bb753a28fe26    0       0  905          0             2   \n",
       "4  60002c430aa8bb753a28fe27    0       0  906          0            18   \n",
       "\n",
       "  pollutant_id pollutant_max pollutant_min state station  AQI class  \n",
       "0            5            68            34     0      24  NaN   NaN  \n",
       "1            4            77            51     0      24  NaN   NaN  \n",
       "2            2            31            28     0      24  NaN   NaN  \n",
       "3            1             2             2     0      24  NaN   NaN  \n",
       "4            6            15            17     0      24  NaN   NaN  "
      ]
     },
     "execution_count": 100,
     "metadata": {},
     "output_type": "execute_result"
    }
   ],
   "source": [
    "df.head()"
   ]
  },
  {
   "cell_type": "code",
   "execution_count": 83,
   "metadata": {},
   "outputs": [],
   "source": [
    "df['class'] = df.AQI.map({'Good':'1','Moderate':'0','Hazardous':'0','Very unhealthy':'0','Unhealthy':1,'Poor':0},na_action='ignore')"
   ]
  },
  {
   "cell_type": "code",
   "execution_count": null,
   "metadata": {},
   "outputs": [],
   "source": []
  },
  {
   "cell_type": "code",
   "execution_count": 84,
   "metadata": {},
   "outputs": [
    {
     "data": {
      "text/html": [
       "<div>\n",
       "<style scoped>\n",
       "    .dataframe tbody tr th:only-of-type {\n",
       "        vertical-align: middle;\n",
       "    }\n",
       "\n",
       "    .dataframe tbody tr th {\n",
       "        vertical-align: top;\n",
       "    }\n",
       "\n",
       "    .dataframe thead th {\n",
       "        text-align: right;\n",
       "    }\n",
       "</style>\n",
       "<table border=\"1\" class=\"dataframe\">\n",
       "  <thead>\n",
       "    <tr style=\"text-align: right;\">\n",
       "      <th></th>\n",
       "      <th>_id</th>\n",
       "      <th>city</th>\n",
       "      <th>country</th>\n",
       "      <th>id</th>\n",
       "      <th>lst_update</th>\n",
       "      <th>pollutant_avg</th>\n",
       "      <th>pollutant_id</th>\n",
       "      <th>pollutant_max</th>\n",
       "      <th>pollutant_min</th>\n",
       "      <th>state</th>\n",
       "      <th>station</th>\n",
       "      <th>AQI</th>\n",
       "      <th>class</th>\n",
       "    </tr>\n",
       "  </thead>\n",
       "  <tbody>\n",
       "    <tr>\n",
       "      <th>0</th>\n",
       "      <td>60002c430aa8bb753a28fe23</td>\n",
       "      <td>0</td>\n",
       "      <td>0</td>\n",
       "      <td>902</td>\n",
       "      <td>0</td>\n",
       "      <td>55</td>\n",
       "      <td>5</td>\n",
       "      <td>68</td>\n",
       "      <td>34</td>\n",
       "      <td>0</td>\n",
       "      <td>24</td>\n",
       "      <td>NaN</td>\n",
       "      <td>NaN</td>\n",
       "    </tr>\n",
       "    <tr>\n",
       "      <th>1</th>\n",
       "      <td>60002c430aa8bb753a28fe24</td>\n",
       "      <td>0</td>\n",
       "      <td>0</td>\n",
       "      <td>903</td>\n",
       "      <td>0</td>\n",
       "      <td>66</td>\n",
       "      <td>4</td>\n",
       "      <td>77</td>\n",
       "      <td>51</td>\n",
       "      <td>0</td>\n",
       "      <td>24</td>\n",
       "      <td>NaN</td>\n",
       "      <td>NaN</td>\n",
       "    </tr>\n",
       "    <tr>\n",
       "      <th>2</th>\n",
       "      <td>60002c430aa8bb753a28fe25</td>\n",
       "      <td>0</td>\n",
       "      <td>0</td>\n",
       "      <td>904</td>\n",
       "      <td>0</td>\n",
       "      <td>32</td>\n",
       "      <td>2</td>\n",
       "      <td>31</td>\n",
       "      <td>28</td>\n",
       "      <td>0</td>\n",
       "      <td>24</td>\n",
       "      <td>NaN</td>\n",
       "      <td>NaN</td>\n",
       "    </tr>\n",
       "    <tr>\n",
       "      <th>3</th>\n",
       "      <td>60002c430aa8bb753a28fe26</td>\n",
       "      <td>0</td>\n",
       "      <td>0</td>\n",
       "      <td>905</td>\n",
       "      <td>0</td>\n",
       "      <td>2</td>\n",
       "      <td>1</td>\n",
       "      <td>2</td>\n",
       "      <td>2</td>\n",
       "      <td>0</td>\n",
       "      <td>24</td>\n",
       "      <td>NaN</td>\n",
       "      <td>NaN</td>\n",
       "    </tr>\n",
       "    <tr>\n",
       "      <th>4</th>\n",
       "      <td>60002c430aa8bb753a28fe27</td>\n",
       "      <td>0</td>\n",
       "      <td>0</td>\n",
       "      <td>906</td>\n",
       "      <td>0</td>\n",
       "      <td>18</td>\n",
       "      <td>6</td>\n",
       "      <td>15</td>\n",
       "      <td>17</td>\n",
       "      <td>0</td>\n",
       "      <td>24</td>\n",
       "      <td>NaN</td>\n",
       "      <td>NaN</td>\n",
       "    </tr>\n",
       "  </tbody>\n",
       "</table>\n",
       "</div>"
      ],
      "text/plain": [
       "                        _id city country   id lst_update pollutant_avg  \\\n",
       "0  60002c430aa8bb753a28fe23    0       0  902          0            55   \n",
       "1  60002c430aa8bb753a28fe24    0       0  903          0            66   \n",
       "2  60002c430aa8bb753a28fe25    0       0  904          0            32   \n",
       "3  60002c430aa8bb753a28fe26    0       0  905          0             2   \n",
       "4  60002c430aa8bb753a28fe27    0       0  906          0            18   \n",
       "\n",
       "  pollutant_id pollutant_max pollutant_min state station  AQI  class  \n",
       "0            5            68            34     0      24  NaN    NaN  \n",
       "1            4            77            51     0      24  NaN    NaN  \n",
       "2            2            31            28     0      24  NaN    NaN  \n",
       "3            1             2             2     0      24  NaN    NaN  \n",
       "4            6            15            17     0      24  NaN    NaN  "
      ]
     },
     "execution_count": 84,
     "metadata": {},
     "output_type": "execute_result"
    }
   ],
   "source": [
    "df.head()"
   ]
  },
  {
   "cell_type": "code",
   "execution_count": null,
   "metadata": {},
   "outputs": [],
   "source": [
    "def qul_No_qul_bar_plot(df,bygroup):\n",
    "    dataframe_by_Group = p.crosstab(df[bygroup], columns=df[\"class\"], normalize='index')\n",
    "    dataframe_by_Group = n.round((dataframe_by_Group*100), decimals=2)\n",
    "    ax= = dataframe_by_Group.plot.bar(figsize=(10,5));\n",
    "    vals = ax.get_yticks()\n",
    "    ax.set_yticklabels(['{:3.0f}%'.formt(x) for x in vals]);\n",
    "    ax.set_xticklabels(dataframe_by_Group.index,rotation = 0, fontsize =15);\n",
    "    ax.set.title('Air Quality Vs No Air Quality(%) (by' + dataframe_by_Group.index.name +')\\n',fontsize = 15)\n",
    "    ax.set_xlabel(dataframe_by_Group.index.name, fontsize =12)\n",
    "    ax.set_ylabels('(%)', fontsize =12)\n",
    "    ax.legend(loc = 'upper left',bbox_to_anchor=(1.0,1.0), fontsize =12)\n",
    "    rects = ax.patches\n",
    "    \n",
    "    #Add Data Labels\n",
    "    \n",
    "    for rect in rects:\n",
    "        height = rect.get_height()\n",
    "        ax.text(rect.get_x()+ rect.get_width()/2,\n",
    "               height +2,\n",
    "               str(height)+'%',\n",
    "               ha='center',\n",
    "               va='bottom',\n",
    "               fonsize = 12)\n",
    "        return dataframe_by_Group\n",
    "     "
   ]
  },
  {
   "cell_type": "code",
   "execution_count": null,
   "metadata": {},
   "outputs": [],
   "source": [
    "qul_No_qul_bar_plot(df,'pollutant_id')"
   ]
  }
 ],
 "metadata": {
  "kernelspec": {
   "display_name": "Python 3",
   "language": "python",
   "name": "python3"
  },
  "language_info": {
   "codemirror_mode": {
    "name": "ipython",
    "version": 3
   },
   "file_extension": ".py",
   "mimetype": "text/x-python",
   "name": "python",
   "nbconvert_exporter": "python",
   "pygments_lexer": "ipython3",
   "version": "3.8.3"
  }
 },
 "nbformat": 4,
 "nbformat_minor": 4
}
