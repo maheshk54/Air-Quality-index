{
 "cells": [
  {
   "cell_type": "code",
   "execution_count": 1,
   "metadata": {},
   "outputs": [],
   "source": [
    "from pyspark.sql import SparkSession\n",
    "\n",
    "spark = SparkSession.builder.master(\"local[*]\").config(\"spark.mongodb.input.uri\",\"mongodb://localhost:27017/AQIdata.Realtime\").config(\"spark.mongodb.output.uri\",\"mongodb://locahost:27017/AQIdata.Realtime\").config(\"spark.jars.packages\",\"org.mongodb.spark:mongo-spark-connector_2.12:3.0.0\").getOrCreate()\n",
    "#df1 = spark1.read.format(\"mongo\").option(\"uri\",\"mongodb://localhost:27017/table.accounts\").load()\n",
    "#df1.show()"
   ]
  },
  {
   "cell_type": "code",
   "execution_count": 2,
   "metadata": {},
   "outputs": [],
   "source": [
    "import requests\n",
    "import pandas as pd\n",
    "from pyspark.sql import SQLContext\n",
    "from pyspark import SparkContext\n",
    "sc=SparkContext.getOrCreate();\n",
    "sql_sc=SQLContext(sc)"
   ]
  },
  {
   "cell_type": "code",
   "execution_count": 3,
   "metadata": {},
   "outputs": [],
   "source": [
    "response =  requests.get('https://api.data.gov.in/resource/3b01bcb8-0b14-4abf-b6f2-c1bfd384ba69?api-key=579b464db66ec23bdd000001bbf5c9af061f43ba484ad03d20dcd385&format=json&offset=0&limit=1000&filters[state]=Maharashtra')\n",
    "resultJson=response.json()\n",
    "json_rdd = sc.parallelize([resultJson['records']])\n",
    "df = spark.read.json(json_rdd)"
   ]
  },
  {
   "cell_type": "code",
   "execution_count": 4,
   "metadata": {
    "scrolled": true
   },
   "outputs": [
    {
     "name": "stdout",
     "output_type": "stream",
     "text": [
      "+----------+-------+---+-------------------+-------------+------------+-------------+-------------+--------------+-----------+--------------------+\n",
      "|      city|country| id|        last_update|pollutant_avg|pollutant_id|pollutant_max|pollutant_min|pollutant_unit|      state|             station|\n",
      "+----------+-------+---+-------------------+-------------+------------+-------------+-------------+--------------+-----------+--------------------+\n",
      "|Aurangabad|  India|902|14-01-2021 04:00:00|           59|       PM2.5|           86|           37|            NA|Maharashtra|More Chowk Waluj,...|\n",
      "|Aurangabad|  India|903|14-01-2021 04:00:00|           82|        PM10|          103|           62|            NA|Maharashtra|More Chowk Waluj,...|\n",
      "+----------+-------+---+-------------------+-------------+------------+-------------+-------------+--------------+-----------+--------------------+\n",
      "only showing top 2 rows\n",
      "\n"
     ]
    }
   ],
   "source": [
    "df.show(2)"
   ]
  },
  {
   "cell_type": "code",
   "execution_count": 5,
   "metadata": {},
   "outputs": [],
   "source": [
    "from pyspark.sql.functions import to_timestamp"
   ]
  },
  {
   "cell_type": "code",
   "execution_count": 6,
   "metadata": {},
   "outputs": [],
   "source": [
    "df=df.select(df.city,\n",
    "             df.country,\n",
    "            df.id.cast(\"integer\"),\n",
    "            to_timestamp(df.last_update, 'dd-MM-yyyy HH:mm:ss').alias('lst_update'),\n",
    "            df.pollutant_avg.cast(\"double\"),\n",
    "            df.pollutant_id, \n",
    "            df.pollutant_max.cast(\"double\"), \n",
    "            df.pollutant_min.cast(\"double\"),\n",
    "            df.state,\n",
    "            df.station\n",
    "            )"
   ]
  },
  {
   "cell_type": "code",
   "execution_count": 7,
   "metadata": {},
   "outputs": [
    {
     "data": {
      "text/plain": [
       "18"
      ]
     },
     "execution_count": 7,
     "metadata": {},
     "output_type": "execute_result"
    }
   ],
   "source": [
    "from pyspark.sql.functions import isnan, when, count, col\n",
    "df.where(col('pollutant_min').isNull()).count()"
   ]
  },
  {
   "cell_type": "code",
   "execution_count": 8,
   "metadata": {},
   "outputs": [],
   "source": [
    "df=df.na.drop()"
   ]
  },
  {
   "cell_type": "code",
   "execution_count": 9,
   "metadata": {},
   "outputs": [
    {
     "data": {
      "text/plain": [
       "0"
      ]
     },
     "execution_count": 9,
     "metadata": {},
     "output_type": "execute_result"
    }
   ],
   "source": [
    "df.where(col('pollutant_id').isNull()).count()"
   ]
  },
  {
   "cell_type": "code",
   "execution_count": 10,
   "metadata": {},
   "outputs": [
    {
     "name": "stdout",
     "output_type": "stream",
     "text": [
      "+----------+-------+---+-------------------+-------------+------------+-------------+-------------+-----------+--------------------+\n",
      "|      city|country| id|         lst_update|pollutant_avg|pollutant_id|pollutant_max|pollutant_min|      state|             station|\n",
      "+----------+-------+---+-------------------+-------------+------------+-------------+-------------+-----------+--------------------+\n",
      "|Aurangabad|  India|902|2021-01-14 04:00:00|         59.0|       PM2.5|         86.0|         37.0|Maharashtra|More Chowk Waluj,...|\n",
      "|Aurangabad|  India|903|2021-01-14 04:00:00|         82.0|        PM10|        103.0|         62.0|Maharashtra|More Chowk Waluj,...|\n",
      "|Aurangabad|  India|904|2021-01-14 04:00:00|         34.0|         NO2|         36.0|         30.0|Maharashtra|More Chowk Waluj,...|\n",
      "|Aurangabad|  India|905|2021-01-14 04:00:00|          3.0|         NH3|          3.0|          3.0|Maharashtra|More Chowk Waluj,...|\n",
      "|Aurangabad|  India|906|2021-01-14 04:00:00|         19.0|         SO2|         20.0|         18.0|Maharashtra|More Chowk Waluj,...|\n",
      "|Aurangabad|  India|907|2021-01-14 04:00:00|         29.0|          CO|         60.0|          6.0|Maharashtra|More Chowk Waluj,...|\n",
      "|Aurangabad|  India|908|2021-01-14 04:00:00|         55.0|       OZONE|         74.0|          4.0|Maharashtra|More Chowk Waluj,...|\n",
      "|Chandrapur|  India|909|2021-01-14 04:00:00|         18.0|       PM2.5|         45.0|          8.0|Maharashtra|Chandrapur, Chand...|\n",
      "|Chandrapur|  India|910|2021-01-14 04:00:00|         76.0|        PM10|        130.0|         43.0|Maharashtra|Chandrapur, Chand...|\n",
      "|Chandrapur|  India|911|2021-01-14 04:00:00|         12.0|         NO2|         14.0|         12.0|Maharashtra|Chandrapur, Chand...|\n",
      "|Chandrapur|  India|912|2021-01-14 04:00:00|          8.0|         NH3|          8.0|          7.0|Maharashtra|Chandrapur, Chand...|\n",
      "|Chandrapur|  India|913|2021-01-14 04:00:00|         23.0|         SO2|         24.0|         15.0|Maharashtra|Chandrapur, Chand...|\n",
      "|Chandrapur|  India|914|2021-01-14 04:00:00|         27.0|          CO|         47.0|         20.0|Maharashtra|Chandrapur, Chand...|\n",
      "|Chandrapur|  India|915|2021-01-14 04:00:00|         38.0|       OZONE|         40.0|         33.0|Maharashtra|Chandrapur, Chand...|\n",
      "|Chandrapur|  India|916|2021-01-14 04:00:00|        110.0|       PM2.5|        244.0|         51.0|Maharashtra|MIDC Khutala, Cha...|\n",
      "|Chandrapur|  India|917|2021-01-14 04:00:00|         98.0|        PM10|        151.0|         50.0|Maharashtra|MIDC Khutala, Cha...|\n",
      "|Chandrapur|  India|918|2021-01-14 04:00:00|         39.0|         NO2|         73.0|         15.0|Maharashtra|MIDC Khutala, Cha...|\n",
      "|Chandrapur|  India|919|2021-01-14 04:00:00|          3.0|         NH3|          4.0|          3.0|Maharashtra|MIDC Khutala, Cha...|\n",
      "|Chandrapur|  India|920|2021-01-14 04:00:00|         32.0|         SO2|        103.0|          2.0|Maharashtra|MIDC Khutala, Cha...|\n",
      "|Chandrapur|  India|921|2021-01-14 04:00:00|         27.0|          CO|         81.0|         21.0|Maharashtra|MIDC Khutala, Cha...|\n",
      "|Chandrapur|  India|922|2021-01-14 04:00:00|         43.0|       OZONE|         61.0|         12.0|Maharashtra|MIDC Khutala, Cha...|\n",
      "|    Kalyan|  India|923|2021-01-14 04:00:00|        154.0|       PM2.5|        314.0|         14.0|Maharashtra|Khadakpada, Kalya...|\n",
      "|    Kalyan|  India|924|2021-01-14 04:00:00|        119.0|        PM10|        213.0|         50.0|Maharashtra|Khadakpada, Kalya...|\n",
      "|    Kalyan|  India|925|2021-01-14 04:00:00|         10.0|         NO2|         17.0|          2.0|Maharashtra|Khadakpada, Kalya...|\n",
      "|    Kalyan|  India|926|2021-01-14 04:00:00|          1.0|         NH3|          2.0|          1.0|Maharashtra|Khadakpada, Kalya...|\n",
      "|    Kalyan|  India|928|2021-01-14 04:00:00|         40.0|          CO|         80.0|         24.0|Maharashtra|Khadakpada, Kalya...|\n",
      "|    Kalyan|  India|929|2021-01-14 04:00:00|         27.0|       OZONE|         65.0|          5.0|Maharashtra|Khadakpada, Kalya...|\n",
      "|    Mumbai|  India|930|2021-01-14 04:00:00|        208.0|       PM2.5|        323.0|         97.0|Maharashtra|Bandra Kurla Comp...|\n",
      "|    Mumbai|  India|931|2021-01-14 04:00:00|         44.0|         NO2|         69.0|         28.0|Maharashtra|Bandra Kurla Comp...|\n",
      "|    Mumbai|  India|932|2021-01-14 04:00:00|         18.0|         NH3|         23.0|         13.0|Maharashtra|Bandra Kurla Comp...|\n",
      "|    Mumbai|  India|933|2021-01-14 04:00:00|          3.0|         SO2|         11.0|          1.0|Maharashtra|Bandra Kurla Comp...|\n",
      "|    Mumbai|  India|934|2021-01-14 04:00:00|         27.0|          CO|         48.0|          1.0|Maharashtra|Bandra Kurla Comp...|\n",
      "|    Mumbai|  India|935|2021-01-14 04:00:00|          4.0|       OZONE|          4.0|          2.0|Maharashtra|Bandra Kurla Comp...|\n",
      "|    Mumbai|  India|936|2021-01-14 04:00:00|         50.0|        PM10|         50.0|         50.0|Maharashtra|Bandra, Mumbai - ...|\n",
      "|    Mumbai|  India|937|2021-01-14 04:00:00|          1.0|         NO2|          1.0|          1.0|Maharashtra|Bandra, Mumbai - ...|\n",
      "|    Mumbai|  India|938|2021-01-14 04:00:00|         20.0|         SO2|         20.0|         19.0|Maharashtra|Bandra, Mumbai - ...|\n",
      "|    Mumbai|  India|939|2021-01-14 04:00:00|         99.0|          CO|        101.0|         85.0|Maharashtra|Bandra, Mumbai - ...|\n",
      "|    Mumbai|  India|940|2021-01-14 04:00:00|         11.0|       OZONE|         11.0|         11.0|Maharashtra|Bandra, Mumbai - ...|\n",
      "|    Mumbai|  India|941|2021-01-14 04:00:00|        201.0|       PM2.5|        325.0|         77.0|Maharashtra|Borivali East, Mu...|\n",
      "|    Mumbai|  India|942|2021-01-14 04:00:00|        161.0|        PM10|        242.0|        121.0|Maharashtra|Borivali East, Mu...|\n",
      "|    Mumbai|  India|945|2021-01-14 04:00:00|         32.0|          CO|         57.0|          8.0|Maharashtra|Borivali East, Mu...|\n",
      "|    Mumbai|  India|946|2021-01-14 04:00:00|         85.0|       OZONE|        145.0|          7.0|Maharashtra|Borivali East, Mu...|\n",
      "|    Mumbai|  India|947|2021-01-14 04:00:00|        130.0|       PM2.5|        224.0|         55.0|Maharashtra|Borivali East, Mu...|\n",
      "|    Mumbai|  India|948|2021-01-14 04:00:00|         91.0|        PM10|        155.0|         36.0|Maharashtra|Borivali East, Mu...|\n",
      "|    Mumbai|  India|949|2021-01-14 04:00:00|          3.0|         NO2|         11.0|          1.0|Maharashtra|Borivali East, Mu...|\n",
      "|    Mumbai|  India|950|2021-01-14 04:00:00|          4.0|         NH3|          5.0|          3.0|Maharashtra|Borivali East, Mu...|\n",
      "|    Mumbai|  India|951|2021-01-14 04:00:00|          5.0|         SO2|          6.0|          3.0|Maharashtra|Borivali East, Mu...|\n",
      "|    Mumbai|  India|952|2021-01-14 04:00:00|         32.0|          CO|         42.0|         21.0|Maharashtra|Borivali East, Mu...|\n",
      "|    Mumbai|  India|953|2021-01-14 04:00:00|          8.0|       OZONE|         13.0|          5.0|Maharashtra|Borivali East, Mu...|\n",
      "|    Mumbai|  India|954|2021-01-14 04:00:00|        241.0|       PM2.5|        380.0|        135.0|Maharashtra|Chakala-Andheri E...|\n",
      "+----------+-------+---+-------------------+-------------+------------+-------------+-------------+-----------+--------------------+\n",
      "only showing top 50 rows\n",
      "\n"
     ]
    }
   ],
   "source": [
    "df.show(50)"
   ]
  },
  {
   "cell_type": "code",
   "execution_count": 11,
   "metadata": {},
   "outputs": [
    {
     "name": "stdout",
     "output_type": "stream",
     "text": [
      "root\n",
      " |-- city: string (nullable = true)\n",
      " |-- country: string (nullable = true)\n",
      " |-- id: integer (nullable = true)\n",
      " |-- lst_update: timestamp (nullable = true)\n",
      " |-- pollutant_avg: double (nullable = true)\n",
      " |-- pollutant_id: string (nullable = true)\n",
      " |-- pollutant_max: double (nullable = true)\n",
      " |-- pollutant_min: double (nullable = true)\n",
      " |-- state: string (nullable = true)\n",
      " |-- station: string (nullable = true)\n",
      "\n"
     ]
    }
   ],
   "source": [
    "df.printSchema()"
   ]
  },
  {
   "cell_type": "code",
   "execution_count": 12,
   "metadata": {},
   "outputs": [],
   "source": [
    "df.write.format(\"mongo\").option(\"uri\",\"mongodb://localhost:27017/AQIdata.Realtime\").mode(\"append\").save()"
   ]
  },
  {
   "cell_type": "code",
   "execution_count": 14,
   "metadata": {},
   "outputs": [
    {
     "data": {
      "text/plain": [
       "231"
      ]
     },
     "execution_count": 14,
     "metadata": {},
     "output_type": "execute_result"
    }
   ],
   "source": [
    "df.count()"
   ]
  },
  {
   "cell_type": "code",
   "execution_count": null,
   "metadata": {},
   "outputs": [],
   "source": []
  }
 ],
 "metadata": {
  "kernelspec": {
   "display_name": "Python 3",
   "language": "python",
   "name": "python3"
  },
  "language_info": {
   "codemirror_mode": {
    "name": "ipython",
    "version": 3
   },
   "file_extension": ".py",
   "mimetype": "text/x-python",
   "name": "python",
   "nbconvert_exporter": "python",
   "pygments_lexer": "ipython3",
   "version": "3.8.3"
  }
 },
 "nbformat": 4,
 "nbformat_minor": 4
}
